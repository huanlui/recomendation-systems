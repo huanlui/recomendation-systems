{
 "cells": [
  {
   "cell_type": "markdown",
   "metadata": {},
   "source": [
    "# Recommender systems\n",
    "\n",
    "## One of the most common uses of big data is to predict and suggest what users may want.  This allows Google to show you relevant ads or to suggest news in Google Now; Amazon to recommend relevant products; Netflix to recommend movies that you might like; or most recently, the famous **Weekly Dicovery** of Spotify.\n",
    "\n",
    "## All these products are based on systems of recommendation: a information retrieval method to provide users with relevant, yet novel and diverse, information. \n",
    "\n",
    "## In this class we will use a pretty famous dataset based on movies ratings, 'MovieLens', to learn the basics of recommender systems. \n",
    "\n",
    "## Table of Contents (times are approximated)\n",
    "\n",
    "1. [Getting and analysing some data (1.5-2 h, typically until break)](#data)\n",
    "2. [Most popular movies (0.5-1 min)](#popular)\n",
    "3. [Metrics for recommender systems (2-2.5h)](#metrics)"
   ]
  },
  {
   "cell_type": "code",
   "execution_count": 1,
   "metadata": {},
   "outputs": [],
   "source": [
    "%matplotlib inline\n",
    "import matplotlib.pyplot as plt\n",
    "import numpy as np\n",
    "import pandas as pd\n",
    "import io\n",
    "import os"
   ]
  },
  {
   "cell_type": "markdown",
   "metadata": {},
   "source": [
    "<a id='data'></a>\n",
    "## 1.1 Load data\n",
    "\n",
    "We will use MovieLens dataset, which is one of the most common datasets used when implementing and testing recommender engines. This data set consists of:\n",
    "* 100,000 ratings (1-5) from 943 users on 1682 movies. \n",
    "* Each user has rated at least 20 movies. \n",
    "* Simple demographic info for the users (age, gender, occupation, zip)\n",
    "\n",
    "The data was collected through the MovieLens [website](https://movielens.org) during the seven-month period from September 19th, \n",
    "1997 through April 22nd, 1998. This data has been cleaned up - users\n",
    "who had less than 20 ratings or did not have complete demographic\n",
    "information were removed from this data set.\n",
    "\n",
    "You can download the dataset [here](http://files.grouplens.org/datasets/movielens/ml-100k.zip)."
   ]
  },
  {
   "cell_type": "markdown",
   "metadata": {},
   "source": [
    "Take a look at the readme file!!!"
   ]
  },
  {
   "cell_type": "code",
   "execution_count": 2,
   "metadata": {},
   "outputs": [],
   "source": [
    "data_root = \"../data/ml-100k/\""
   ]
  },
  {
   "cell_type": "code",
   "execution_count": 3,
   "metadata": {},
   "outputs": [
    {
     "name": "stdout",
     "output_type": "stream",
     "text": [
      "SUMMARY & USAGE LICENSE\r\n",
      "=============================================\r\n",
      "\r\n",
      "MovieLens data sets were collected by the GroupLens Research Project\r\n",
      "at the University of Minnesota.\r\n",
      " \r\n",
      "This data set consists of:\r\n",
      "\t* 100,000 ratings (1-5) from 943 users on 1682 movies. \r\n",
      "\t* Each user has rated at least 20 movies. \r\n",
      "        * Simple demographic info for the users (age, gender, occupation, zip)\r\n",
      "\r\n",
      "The data was collected through the MovieLens web site\r\n",
      "(movielens.umn.edu) during the seven-month period from September 19th, \r\n",
      "1997 through April 22nd, 1998. This data has been cleaned up - users\r\n",
      "who had less than 20 ratings or did not have complete demographic\r\n",
      "information were removed from this data set. Detailed descriptions of\r\n",
      "the data file can be found at the end of this file.\r\n",
      "\r\n",
      "Neither the University of Minnesota nor any of the researchers\r\n",
      "involved can guarantee the correctness of the data, its suitability\r\n",
      "for any particular purpose, or the validity of results based on the\r\n",
      "use of the data set.  The data set may be used for any research\r\n",
      "purposes under the following conditions:\r\n",
      "\r\n",
      "     * The user may not state or imply any endorsement from the\r\n",
      "       University of Minnesota or the GroupLens Research Group.\r\n",
      "\r\n",
      "     * The user must acknowledge the use of the data set in\r\n",
      "       publications resulting from the use of the data set\r\n",
      "       (see below for citation information).\r\n",
      "\r\n",
      "     * The user may not redistribute the data without separate\r\n",
      "       permission.\r\n",
      "\r\n",
      "     * The user may not use this information for any commercial or\r\n",
      "       revenue-bearing purposes without first obtaining permission\r\n",
      "       from a faculty member of the GroupLens Research Project at the\r\n",
      "       University of Minnesota.\r\n",
      "\r\n",
      "If you have any further questions or comments, please contact GroupLens\r\n",
      "<grouplens-info@cs.umn.edu>. \r\n",
      "\r\n",
      "CITATION\r\n",
      "==============================================\r\n",
      "\r\n",
      "To acknowledge use of the dataset in publications, please cite the \r\n",
      "following paper:\r\n",
      "\r\n",
      "F. Maxwell Harper and Joseph A. Konstan. 2015. The MovieLens Datasets:\r\n",
      "History and Context. ACM Transactions on Interactive Intelligent\r\n",
      "Systems (TiiS) 5, 4, Article 19 (December 2015), 19 pages.\r\n",
      "DOI=http://dx.doi.org/10.1145/2827872\r\n",
      "\r\n",
      "\r\n",
      "ACKNOWLEDGEMENTS\r\n",
      "==============================================\r\n",
      "\r\n",
      "Thanks to Al Borchers for cleaning up this data and writing the\r\n",
      "accompanying scripts.\r\n",
      "\r\n",
      "PUBLISHED WORK THAT HAS USED THIS DATASET\r\n",
      "==============================================\r\n",
      "\r\n",
      "Herlocker, J., Konstan, J., Borchers, A., Riedl, J.. An Algorithmic\r\n",
      "Framework for Performing Collaborative Filtering. Proceedings of the\r\n",
      "1999 Conference on Research and Development in Information\r\n",
      "Retrieval. Aug. 1999.\r\n",
      "\r\n",
      "FURTHER INFORMATION ABOUT THE GROUPLENS RESEARCH PROJECT\r\n",
      "==============================================\r\n",
      "\r\n",
      "The GroupLens Research Project is a research group in the Department\r\n",
      "of Computer Science and Engineering at the University of Minnesota.\r\n",
      "Members of the GroupLens Research Project are involved in many\r\n",
      "research projects related to the fields of information filtering,\r\n",
      "collaborative filtering, and recommender systems. The project is lead\r\n",
      "by professors John Riedl and Joseph Konstan. The project began to\r\n",
      "explore automated collaborative filtering in 1992, but is most well\r\n",
      "known for its world wide trial of an automated collaborative filtering\r\n",
      "system for Usenet news in 1996.  The technology developed in the\r\n",
      "Usenet trial formed the base for the formation of Net Perceptions,\r\n",
      "Inc., which was founded by members of GroupLens Research. Since then\r\n",
      "the project has expanded its scope to research overall information\r\n",
      "filtering solutions, integrating in content-based methods as well as\r\n",
      "improving current collaborative filtering technology.\r\n",
      "\r\n",
      "Further information on the GroupLens Research project, including\r\n",
      "research publications, can be found at the following web site:\r\n",
      "        \r\n",
      "        http://www.grouplens.org/\r\n",
      "\r\n",
      "GroupLens Research currently operates a movie recommender based on\r\n",
      "collaborative filtering:\r\n",
      "\r\n",
      "        http://www.movielens.org/\r\n",
      "\r\n",
      "DETAILED DESCRIPTIONS OF DATA FILES\r\n",
      "==============================================\r\n",
      "\r\n",
      "Here are brief descriptions of the data.\r\n",
      "\r\n",
      "ml-data.tar.gz   -- Compressed tar file.  To rebuild the u data files do this:\r\n",
      "                gunzip ml-data.tar.gz\r\n",
      "                tar xvf ml-data.tar\r\n",
      "                mku.sh\r\n",
      "\r\n",
      "u.data     -- The full u data set, 100000 ratings by 943 users on 1682 items.\r\n",
      "              Each user has rated at least 20 movies.  Users and items are\r\n",
      "              numbered consecutively from 1.  The data is randomly\r\n",
      "              ordered. This is a tab separated list of \r\n",
      "\t         user id | item id | rating | timestamp. \r\n",
      "              The time stamps are unix seconds since 1/1/1970 UTC   \r\n",
      "\r\n",
      "u.info     -- The number of users, items, and ratings in the u data set.\r\n",
      "\r\n",
      "u.item     -- Information about the items (movies); this is a tab separated\r\n",
      "              list of\r\n",
      "              movie id | movie title | release date | video release date |\r\n",
      "              IMDb URL | unknown | Action | Adventure | Animation |\r\n",
      "              Children's | Comedy | Crime | Documentary | Drama | Fantasy |\r\n",
      "              Film-Noir | Horror | Musical | Mystery | Romance | Sci-Fi |\r\n",
      "              Thriller | War | Western |\r\n",
      "              The last 19 fields are the genres, a 1 indicates the movie\r\n",
      "              is of that genre, a 0 indicates it is not; movies can be in\r\n",
      "              several genres at once.\r\n",
      "              The movie ids are the ones used in the u.data data set.\r\n",
      "\r\n",
      "u.genre    -- A list of the genres.\r\n",
      "\r\n",
      "u.user     -- Demographic information about the users; this is a tab\r\n",
      "              separated list of\r\n",
      "              user id | age | gender | occupation | zip code\r\n",
      "              The user ids are the ones used in the u.data data set.\r\n",
      "\r\n",
      "u.occupation -- A list of the occupations.\r\n",
      "\r\n",
      "u1.base    -- The data sets u1.base and u1.test through u5.base and u5.test\r\n",
      "u1.test       are 80%/20% splits of the u data into training and test data.\r\n",
      "u2.base       Each of u1, ..., u5 have disjoint test sets; this if for\r\n",
      "u2.test       5 fold cross validation (where you repeat your experiment\r\n",
      "u3.base       with each training and test set and average the results).\r\n",
      "u3.test       These data sets can be generated from u.data by mku.sh.\r\n",
      "u4.base\r\n",
      "u4.test\r\n",
      "u5.base\r\n",
      "u5.test\r\n",
      "\r\n",
      "ua.base    -- The data sets ua.base, ua.test, ub.base, and ub.test\r\n",
      "ua.test       split the u data into a training set and a test set with\r\n",
      "ub.base       exactly 10 ratings per user in the test set.  The sets\r\n",
      "ub.test       ua.test and ub.test are disjoint.  These data sets can\r\n",
      "              be generated from u.data by mku.sh.\r\n",
      "\r\n",
      "allbut.pl  -- The script that generates training and test sets where\r\n",
      "              all but n of a users ratings are in the training data.\r\n",
      "\r\n",
      "mku.sh     -- A shell script to generate all the u data sets from u.data.\r\n"
     ]
    }
   ],
   "source": [
    "!cat {data_root}README"
   ]
  },
  {
   "cell_type": "code",
   "execution_count": 4,
   "metadata": {},
   "outputs": [
    {
     "data": {
      "text/html": [
       "<div>\n",
       "<style scoped>\n",
       "    .dataframe tbody tr th:only-of-type {\n",
       "        vertical-align: middle;\n",
       "    }\n",
       "\n",
       "    .dataframe tbody tr th {\n",
       "        vertical-align: top;\n",
       "    }\n",
       "\n",
       "    .dataframe thead th {\n",
       "        text-align: right;\n",
       "    }\n",
       "</style>\n",
       "<table border=\"1\" class=\"dataframe\">\n",
       "  <thead>\n",
       "    <tr style=\"text-align: right;\">\n",
       "      <th></th>\n",
       "      <th>user_id</th>\n",
       "      <th>item_id</th>\n",
       "      <th>rating</th>\n",
       "      <th>timestamp</th>\n",
       "    </tr>\n",
       "  </thead>\n",
       "  <tbody>\n",
       "    <tr>\n",
       "      <th>0</th>\n",
       "      <td>196</td>\n",
       "      <td>242</td>\n",
       "      <td>3</td>\n",
       "      <td>881250949</td>\n",
       "    </tr>\n",
       "    <tr>\n",
       "      <th>1</th>\n",
       "      <td>186</td>\n",
       "      <td>302</td>\n",
       "      <td>3</td>\n",
       "      <td>891717742</td>\n",
       "    </tr>\n",
       "    <tr>\n",
       "      <th>2</th>\n",
       "      <td>22</td>\n",
       "      <td>377</td>\n",
       "      <td>1</td>\n",
       "      <td>878887116</td>\n",
       "    </tr>\n",
       "    <tr>\n",
       "      <th>3</th>\n",
       "      <td>244</td>\n",
       "      <td>51</td>\n",
       "      <td>2</td>\n",
       "      <td>880606923</td>\n",
       "    </tr>\n",
       "    <tr>\n",
       "      <th>4</th>\n",
       "      <td>166</td>\n",
       "      <td>346</td>\n",
       "      <td>1</td>\n",
       "      <td>886397596</td>\n",
       "    </tr>\n",
       "  </tbody>\n",
       "</table>\n",
       "</div>"
      ],
      "text/plain": [
       "   user_id  item_id  rating  timestamp\n",
       "0      196      242       3  881250949\n",
       "1      186      302       3  891717742\n",
       "2       22      377       1  878887116\n",
       "3      244       51       2  880606923\n",
       "4      166      346       1  886397596"
      ]
     },
     "execution_count": 4,
     "metadata": {},
     "output_type": "execute_result"
    }
   ],
   "source": [
    "columns = ['user_id', 'item_id', 'rating', 'timestamp']\n",
    "datafile = os.path.join(data_root, \"u.data\")\n",
    "data = pd.read_csv(datafile, sep='\\t', names=columns)\n",
    "data.head()"
   ]
  },
  {
   "cell_type": "markdown",
   "metadata": {},
   "source": [
    "### A remainder of the numpy library\n",
    "\n",
    "*Pandas library is nothing alse than numpy under the hood (numpy with steroids, if you like). You can access the data (in matrix from) with he \"values\" attribute, e.g. data.values*"
   ]
  },
  {
   "cell_type": "code",
   "execution_count": 6,
   "metadata": {},
   "outputs": [
    {
     "data": {
      "text/plain": [
       "array([[      196,       242,         3, 881250949],\n",
       "       [      186,       302,         3, 891717742],\n",
       "       [       22,       377,         1, 878887116],\n",
       "       ...,\n",
       "       [      276,      1090,         1, 874795795],\n",
       "       [       13,       225,         2, 882399156],\n",
       "       [       12,       203,         3, 879959583]])"
      ]
     },
     "execution_count": 6,
     "metadata": {},
     "output_type": "execute_result"
    }
   ],
   "source": [
    "data.values"
   ]
  },
  {
   "cell_type": "code",
   "execution_count": 7,
   "metadata": {},
   "outputs": [
    {
     "data": {
      "text/plain": [
       "(100000, 4)"
      ]
     },
     "execution_count": 7,
     "metadata": {},
     "output_type": "execute_result"
    }
   ],
   "source": [
    "# The attribute shape provides the shape of the matrix\n",
    "data.values.shape"
   ]
  },
  {
   "cell_type": "code",
   "execution_count": 9,
   "metadata": {},
   "outputs": [
    {
     "data": {
      "text/plain": [
       "(100000,)"
      ]
     },
     "execution_count": 9,
     "metadata": {},
     "output_type": "execute_result"
    }
   ],
   "source": [
    "# Note that if we return the first column, we get a vector (of 100000 components)\n",
    "data.values[:, 0].shape"
   ]
  },
  {
   "cell_type": "code",
   "execution_count": 11,
   "metadata": {},
   "outputs": [
    {
     "data": {
      "text/plain": [
       "array([      196,       242,         3, 881250949])"
      ]
     },
     "execution_count": 11,
     "metadata": {},
     "output_type": "execute_result"
    }
   ],
   "source": [
    "# same with the first row (this time, we get a vector of 4 components)\n",
    "data.values[0, :]\n",
    "data.values[0]"
   ]
  },
  {
   "cell_type": "code",
   "execution_count": 12,
   "metadata": {},
   "outputs": [
    {
     "data": {
      "text/plain": [
       "array([[ 196,  242,    3],\n",
       "       [ 186,  302,    3],\n",
       "       [  22,  377,    1],\n",
       "       ...,\n",
       "       [ 276, 1090,    1],\n",
       "       [  13,  225,    2],\n",
       "       [  12,  203,    3]])"
      ]
     },
     "execution_count": 12,
     "metadata": {},
     "output_type": "execute_result"
    }
   ],
   "source": [
    "# access all rows, and first 3 columns \n",
    "data.values[:, :3]"
   ]
  },
  {
   "cell_type": "code",
   "execution_count": null,
   "metadata": {},
   "outputs": [],
   "source": [
    "# access all collumns, and first 3 rows \n"
   ]
  },
  {
   "cell_type": "code",
   "execution_count": null,
   "metadata": {},
   "outputs": [],
   "source": [
    "# access first 10 rows\n",
    "\n",
    "# This is equivalent to data.values[:10]"
   ]
  },
  {
   "cell_type": "code",
   "execution_count": null,
   "metadata": {},
   "outputs": [],
   "source": [
    "# access first column\n"
   ]
  },
  {
   "cell_type": "code",
   "execution_count": 14,
   "metadata": {},
   "outputs": [],
   "source": [
    "# Number of users and items\n",
    "n_users = data.user_id.unique().size"
   ]
  },
  {
   "cell_type": "code",
   "execution_count": 16,
   "metadata": {},
   "outputs": [],
   "source": [
    "# Number of items\n",
    "n_items = np.unique(data.values[:, 1]).shape[0]"
   ]
  },
  {
   "cell_type": "code",
   "execution_count": 17,
   "metadata": {},
   "outputs": [
    {
     "name": "stdout",
     "output_type": "stream",
     "text": [
      "There are 943 users and 1682 items\n"
     ]
    }
   ],
   "source": [
    "print(\"There are %s users and %s items\" %(n_users, n_items))"
   ]
  },
  {
   "cell_type": "markdown",
   "metadata": {},
   "source": [
    "## 1.2 A dictionary for movies and a search tool\n",
    "\n",
    "In order to analyze the predicted recommendations, let's create a python dictonary that will allow us to translate any item id to the corresponding movie title. Also, let's write a small function that returns the ids of the movies containing some text.\n",
    "\n",
    "The correspondance between titles and ids is stored in the u.item file"
   ]
  },
  {
   "cell_type": "code",
   "execution_count": 18,
   "metadata": {},
   "outputs": [
    {
     "name": "stdout",
     "output_type": "stream",
     "text": [
      "1|Toy Story (1995)|01-Jan-1995||http://us.imdb.com/M/title-exact?Toy%20Story%20(1995)|0|0|0|1|1|1|0|0|0|0|0|0|0|0|0|0|0|0|0\r\n",
      "2|GoldenEye (1995)|01-Jan-1995||http://us.imdb.com/M/title-exact?GoldenEye%20(1995)|0|1|1|0|0|0|0|0|0|0|0|0|0|0|0|0|1|0|0\r\n",
      "3|Four Rooms (1995)|01-Jan-1995||http://us.imdb.com/M/title-exact?Four%20Rooms%20(1995)|0|0|0|0|0|0|0|0|0|0|0|0|0|0|0|0|1|0|0\r\n",
      "4|Get Shorty (1995)|01-Jan-1995||http://us.imdb.com/M/title-exact?Get%20Shorty%20(1995)|0|1|0|0|0|1|0|0|1|0|0|0|0|0|0|0|0|0|0\r\n",
      "5|Copycat (1995)|01-Jan-1995||http://us.imdb.com/M/title-exact?Copycat%20(1995)|0|0|0|0|0|0|1|0|1|0|0|0|0|0|0|0|1|0|0\r\n",
      "6|Shanghai Triad (Yao a yao yao dao waipo qiao) (1995)|01-Jan-1995||http://us.imdb.com/Title?Yao+a+yao+yao+dao+waipo+qiao+(1995)|0|0|0|0|0|0|0|0|1|0|0|0|0|0|0|0|0|0|0\r\n",
      "7|Twelve Monkeys (1995)|01-Jan-1995||http://us.imdb.com/M/title-exact?Twelve%20Monkeys%20(1995)|0|0|0|0|0|0|0|0|1|0|0|0|0|0|0|1|0|0|0\r\n",
      "8|Babe (1995)|01-Jan-1995||http://us.imdb.com/M/title-exact?Babe%20(1995)|0|0|0|0|1|1|0|0|1|0|0|0|0|0|0|0|0|0|0\r\n",
      "9|Dead Man Walking (1995)|01-Jan-1995||http://us.imdb.com/M/title-exact?Dead%20Man%20Walking%20(1995)|0|0|0|0|0|0|0|0|1|0|0|0|0|0|0|0|0|0|0\r\n",
      "10|Richard III (1995)|22-Jan-1996||http://us.imdb.com/M/title-exact?Richard%20III%20(1995)|0|0|0|0|0|0|0|0|1|0|0|0|0|0|0|0|0|1|0\r\n"
     ]
    }
   ],
   "source": [
    "# data_root = \"./../data/ml-100k/\"\n",
    "items_id_file = os.path.join(data_root, \"u.item\")\n",
    "!head $items_id_file"
   ]
  },
  {
   "cell_type": "markdown",
   "metadata": {},
   "source": [
    "### *Simple reminder of dictionaries*"
   ]
  },
  {
   "cell_type": "code",
   "execution_count": 19,
   "metadata": {},
   "outputs": [],
   "source": [
    "aux = {'hola': 'que haces?', 1: '237'}"
   ]
  },
  {
   "cell_type": "code",
   "execution_count": 20,
   "metadata": {},
   "outputs": [
    {
     "data": {
      "text/plain": [
       "'que haces?'"
      ]
     },
     "execution_count": 20,
     "metadata": {},
     "output_type": "execute_result"
    }
   ],
   "source": [
    "# Access value of key='hola'\n",
    "aux['hola']"
   ]
  },
  {
   "cell_type": "code",
   "execution_count": 22,
   "metadata": {},
   "outputs": [
    {
     "data": {
      "text/plain": [
       "{'hola': 'que haces?', 1: '237', 'adios': 'ciao'}"
      ]
     },
     "execution_count": 22,
     "metadata": {},
     "output_type": "execute_result"
    }
   ],
   "source": [
    "# create new key\n",
    "aux['adios'] = 'ciao'\n",
    "aux"
   ]
  },
  {
   "cell_type": "code",
   "execution_count": 23,
   "metadata": {},
   "outputs": [
    {
     "data": {
      "text/plain": [
       "{'hola': 'hola', 1: '237', 'adios': 'ciao'}"
      ]
     },
     "execution_count": 23,
     "metadata": {},
     "output_type": "execute_result"
    }
   ],
   "source": [
    "# Update value of existing key\n",
    "aux['hola'] = 'hola'\n",
    "aux"
   ]
  },
  {
   "cell_type": "code",
   "execution_count": 25,
   "metadata": {},
   "outputs": [
    {
     "data": {
      "text/plain": [
       "['hola', 1, 'adios']"
      ]
     },
     "execution_count": 25,
     "metadata": {},
     "output_type": "execute_result"
    }
   ],
   "source": [
    "# get all keys \n",
    "list(aux.keys())"
   ]
  },
  {
   "cell_type": "code",
   "execution_count": 26,
   "metadata": {},
   "outputs": [
    {
     "data": {
      "text/plain": [
       "dict_values(['hola', '237', 'ciao'])"
      ]
     },
     "execution_count": 26,
     "metadata": {},
     "output_type": "execute_result"
    }
   ],
   "source": [
    "# get all values\n",
    "aux.values()"
   ]
  },
  {
   "cell_type": "code",
   "execution_count": 27,
   "metadata": {},
   "outputs": [
    {
     "data": {
      "text/plain": [
       "dict_items([('hola', 'hola'), (1, '237'), ('adios', 'ciao')])"
      ]
     },
     "execution_count": 27,
     "metadata": {},
     "output_type": "execute_result"
    }
   ],
   "source": [
    "# get all keys and values at the same time\n",
    "aux.items()"
   ]
  },
  {
   "cell_type": "code",
   "execution_count": 28,
   "metadata": {
    "scrolled": true
   },
   "outputs": [
    {
     "name": "stdout",
     "output_type": "stream",
     "text": [
      "User 196 viewed 'b'Kolya (1996)'' and gave a 3 rating\n",
      "User 186 viewed 'b'L.A. Confidential (1997)'' and gave a 3 rating\n",
      "User 22 viewed 'b'Heavyweights (1994)'' and gave a 1 rating\n",
      "User 244 viewed 'b'Legends of the Fall (1994)'' and gave a 2 rating\n",
      "User 166 viewed 'b'Jackie Brown (1997)'' and gave a 1 rating\n",
      "User 298 viewed 'b'Dr. Strangelove or: How I Learned to Stop Worrying and Love the Bomb (1963)'' and gave a 4 rating\n",
      "User 115 viewed 'b'Hunt for Red October, The (1990)'' and gave a 2 rating\n",
      "User 253 viewed 'b'Jungle Book, The (1994)'' and gave a 5 rating\n",
      "User 305 viewed 'b'Grease (1978)'' and gave a 3 rating\n",
      "User 6 viewed 'b'Remains of the Day, The (1993)'' and gave a 3 rating\n",
      "User 62 viewed 'b'Men in Black (1997)'' and gave a 2 rating\n",
      "User 286 viewed 'b\"Romy and Michele's High School Reunion (1997)\"' and gave a 5 rating\n",
      "User 200 viewed 'b'Star Trek: First Contact (1996)'' and gave a 5 rating\n",
      "User 210 viewed 'b'To Wong Foo, Thanks for Everything! Julie Newmar (1995)'' and gave a 3 rating\n",
      "User 224 viewed 'b'Batman Forever (1995)'' and gave a 3 rating\n",
      "User 303 viewed 'b'Only You (1994)'' and gave a 3 rating\n",
      "User 122 viewed 'b'Age of Innocence, The (1993)'' and gave a 5 rating\n",
      "User 194 viewed 'b'Sabrina (1995)'' and gave a 2 rating\n",
      "User 291 viewed 'b'Just Cause (1995)'' and gave a 4 rating\n",
      "User 234 viewed 'b'Endless Summer 2, The (1994)'' and gave a 2 rating\n"
     ]
    }
   ],
   "source": [
    "# Create a dictionary for movie titles and ids\n",
    "item_dict = {}\n",
    "with io.open(items_id_file, 'rb') as f:\n",
    "    for line in f.readlines():\n",
    "        record = line.split(b'|')\n",
    "        item_dict[int(record[0])] = str(record[1])\n",
    "    \n",
    "# We can use this dict to see the films a user has seen, for instance. \n",
    "for record in data.values[:20]:\n",
    "    print(\"User {u} viewed '{m}' and gave a {r} rating\".format(\n",
    "        u=record[0], m=item_dict[record[1]], r=record[2]))    "
   ]
  },
  {
   "cell_type": "code",
   "execution_count": 32,
   "metadata": {},
   "outputs": [],
   "source": [
    "# Define a function that retrieves all the ids and titles for movies containing 'text' in its title\n",
    "def returnItemId(text, ids):\n",
    "    \"\"\"\n",
    "    :param text: string to be looked for in movies titles\n",
    "    :param ids: dictionary of {id:title}\n",
    "    \n",
    "    :return: a list of (id,title) if text found in titles, and an empty list otherwise.\n",
    "    \"\"\"\n",
    "    # convert input text to lowercase\n",
    "    text_ = text.lower()\n",
    "    # find occurances\n",
    "    search = []\n",
    "    for id_,title in ids.items():\n",
    "        if text in title.lower():\n",
    "            search.append((id_, title))\n",
    "    \n",
    "    return search"
   ]
  },
  {
   "cell_type": "code",
   "execution_count": 33,
   "metadata": {},
   "outputs": [],
   "source": [
    "returnItemId??"
   ]
  },
  {
   "cell_type": "code",
   "execution_count": 34,
   "metadata": {},
   "outputs": [
    {
     "data": {
      "text/plain": [
       "[(240, \"b'Beavis and Butt-head Do America (1996)'\"),\n",
       " (435, \"b'Butch Cassidy and the Sundance Kid (1969)'\"),\n",
       " (580,\n",
       "  \"b'Englishman Who Went Up a Hill, But Came Down a Mountain, The (1995)'\"),\n",
       " (1401, \"b'M. Butterfly (1993)'\"),\n",
       " (1459, \"b'Madame Butterfly (1995)'\"),\n",
       " (1614, \"b'Reluctant Debutante, The (1958)'\"),\n",
       " (1621, \"b'Butterfly Kiss (1995)'\"),\n",
       " (1645, \"b'Butcher Boy, The (1998)'\"),\n",
       " (1650, \"b'Butcher Boy, The (1998)'\")]"
      ]
     },
     "execution_count": 34,
     "metadata": {},
     "output_type": "execute_result"
    }
   ],
   "source": [
    "returnItemId('but', item_dict)"
   ]
  },
  {
   "cell_type": "markdown",
   "metadata": {},
   "source": [
    "## 1.3 Data consistency (always double check everything!!!)"
   ]
  },
  {
   "cell_type": "code",
   "execution_count": 37,
   "metadata": {},
   "outputs": [
    {
     "data": {
      "text/plain": [
       "(1682, 1664)"
      ]
     },
     "execution_count": 37,
     "metadata": {},
     "output_type": "execute_result"
    }
   ],
   "source": [
    "# check whether titles are unique or not. They are not!!!\n",
    "len(set(item_dict.keys())), len(set(item_dict.values()))"
   ]
  },
  {
   "cell_type": "code",
   "execution_count": null,
   "metadata": {},
   "outputs": [],
   "source": [
    "?"
   ]
  },
  {
   "cell_type": "markdown",
   "metadata": {},
   "source": [
    "### One work around: create another dict that consolidates ids with the same movie title\n",
    "\n",
    "Alternatively, you could create a Dataframe from the above dictionary of ids:titles\n",
    "\n",
    "<pre><code>\n",
    "dd = pd.DataFrame.from_dict(item_dict, orient='index').reset_index()\n",
    "dd.columns = ['item_id', 'title']\n",
    "dd.head()\n",
    "</code></pre>\n",
    "\n",
    "find the duplicates (`dd.groupby('title')...`), and create a new id for the items. "
   ]
  },
  {
   "cell_type": "code",
   "execution_count": null,
   "metadata": {},
   "outputs": [],
   "source": [
    "duplicates_item_dict = {}\n",
    "# Las claves en \"duplicates_item_dict\" son los nombres de las películas\n",
    "# Los valores son una lista de los ids (que pueden ser uno solo, o varios)\n",
    "for id_, name in list(item_dict.items()):\n",
    "    # clave: name; valor: list(id_)\n",
    "    ?\n",
    "\n",
    "# show the duplicated titles\n",
    "for k,v in list(duplicates_item_dict.items()):\n",
    "    if len(v)>1:\n",
    "        print(k,v)"
   ]
  },
  {
   "cell_type": "markdown",
   "metadata": {},
   "source": [
    "Create a dict where the key are the original ids, and the values are the unique one. \n",
    "We will use this dictionary to remove duplicates in a dataframe."
   ]
  },
  {
   "cell_type": "code",
   "execution_count": null,
   "metadata": {},
   "outputs": [],
   "source": [
    "unique_id_item_dict ={}\n",
    "for new_id, old_id_list in enumerate(duplicates_item_dict.values()):\n",
    "    # key: old_id; value: new_id\n",
    "    ?\n",
    "\n",
    "unique_id_item_dict = {old_id: new_id for new_id, old_id_list in enumerate(duplicates_item_dict.values()) \n",
    "                                      for old_id in old_id_list}"
   ]
  },
  {
   "cell_type": "code",
   "execution_count": null,
   "metadata": {},
   "outputs": [],
   "source": [
    "unique_id_item_dict"
   ]
  },
  {
   "cell_type": "markdown",
   "metadata": {},
   "source": [
    "Create another dict mapping moving titles to this new unique id"
   ]
  },
  {
   "cell_type": "code",
   "execution_count": null,
   "metadata": {},
   "outputs": [],
   "source": [
    "unique_item_dict = {unique_id_item_dict[k]:v \n",
    "                    for k,v in item_dict.items()}\n",
    "    \n",
    "assert(len(set(unique_item_dict.keys())) == \n",
    "       len(set(unique_item_dict.values())))"
   ]
  },
  {
   "cell_type": "markdown",
   "metadata": {},
   "source": [
    "Now we can use our `returnItemId()` mehtod safely =)"
   ]
  },
  {
   "cell_type": "code",
   "execution_count": null,
   "metadata": {},
   "outputs": [],
   "source": [
    "returnItemId('but', unique_item_dict)"
   ]
  },
  {
   "cell_type": "code",
   "execution_count": null,
   "metadata": {},
   "outputs": [],
   "source": [
    "returnItemId('but', item_dict)"
   ]
  },
  {
   "cell_type": "markdown",
   "metadata": {},
   "source": [
    "## Copiamos de notebook de mañana "
   ]
  },
  {
   "cell_type": "code",
   "execution_count": 49,
   "metadata": {},
   "outputs": [],
   "source": [
    "class rueda():\n",
    "    \n",
    "    def __init__(self, marca, diametro):\n",
    "        self.marca = marca\n",
    "        self.diametro = diametro\n",
    "        self.distancia = 0\n",
    "        \n",
    "    def rodar(self, distancia):\n",
    "        self.distancia += distancia\n",
    "        "
   ]
  },
  {
   "cell_type": "code",
   "execution_count": 50,
   "metadata": {},
   "outputs": [],
   "source": [
    "r1 = rueda(marca='michelin', diametro=17)\n",
    "r2 = rueda(marca='michelin', diametro=42)"
   ]
  },
  {
   "cell_type": "code",
   "execution_count": 51,
   "metadata": {},
   "outputs": [
    {
     "data": {
      "text/plain": [
       "(17, 42)"
      ]
     },
     "execution_count": 51,
     "metadata": {},
     "output_type": "execute_result"
    }
   ],
   "source": [
    "r1.diametro, r2.diametro"
   ]
  },
  {
   "cell_type": "code",
   "execution_count": 52,
   "metadata": {
    "scrolled": false
   },
   "outputs": [
    {
     "name": "stdout",
     "output_type": "stream",
     "text": [
      "5\n",
      "10\n",
      "15\n",
      "20\n",
      "25\n",
      "30\n",
      "35\n",
      "40\n",
      "45\n",
      "50\n"
     ]
    }
   ],
   "source": [
    "for _ in range(10):\n",
    "    r1.rodar(5)\n",
    "    print(r1.distancia)"
   ]
  },
  {
   "cell_type": "code",
   "execution_count": 53,
   "metadata": {},
   "outputs": [],
   "source": [
    "class movielens_100k(object):\n",
    "    \"\"\"\n",
    "    This python class read the movielens-100k dataset and:\n",
    "        . Preprocess train and test sets\n",
    "        . Create a python dict that allows us to translate any item id to the corresponding movie title\n",
    "    \"\"\"\n",
    "    \n",
    "    def __init__(self, data_root, item_id_file='u.item', train_file='u2.base', test_file='u2.test', \n",
    "                 columns=['user_id', 'item_id', 'rating', 'timestamp']):\n",
    "                \n",
    "        self.data_root = data_root\n",
    "        self.items_id_file = os.path.join(self.data_root, item_id_file)\n",
    "        self.train_file = train_file\n",
    "        self.test_file = test_file\n",
    "        self.columns = columns\n",
    "        self.__data = {}  # dictionary to store train and test data\n",
    "            \n",
    "    def __getitem__(self, dataset):\n",
    "        \"\"\"\n",
    "        Get train and test data\n",
    "\n",
    "        :param dataset: dataset name (String)\n",
    "        :return: pandas dataframe\n",
    "        \"\"\"\n",
    "        return self.__data[dataset]\n",
    "\n",
    "    def __setitem__(self, key, value):\n",
    "        \"\"\"\n",
    "        Store train and test data in the dictionary self.__data.\n",
    "\n",
    "        :param key: name of the dataset (String)\n",
    "        :param value: pandas dataframe\n",
    "        \"\"\"\n",
    "        self.__data[key] = value\n",
    "        \n",
    "    def read_data(self, file, verbose=False):\n",
    "        \"\"\"\n",
    "        Read file returning a pandas dataframe\n",
    "        :param file: file path\n",
    "        :param verbose: print the first rows of the data\n",
    "        \"\"\"\n",
    "        datafile = os.path.join(self.data_root, file)\n",
    "        data = pd.read_csv(datafile, sep='\\t', names=self.columns)\n",
    "        if verbose:\n",
    "            print(data.head())\n",
    "        return data\n",
    "            \n",
    "    def returnItemId(self, text, dict_ids):\n",
    "        \"\"\"\n",
    "        Retrieves all the ids and titles for movies containing 'text' in its title\n",
    "        :param text: string to be looked for in movies titles\n",
    "        :param dict_ids: dicttionary of {id:title}\n",
    "\n",
    "        :return: a list of (id,title) if text found in titles, and an empty list otherwise.\n",
    "        \"\"\"\n",
    "        # convert input text to lowercase\n",
    "        text_ = text.lower()\n",
    "        # find occurances\n",
    "        search = [(k, v.lower().find(text_)) \n",
    "                  for k,v in list(dict_ids.items())]\n",
    "\n",
    "        # Get the IDs corresponding to the given text\n",
    "        index = [k for k,v in search if v>-1]\n",
    "\n",
    "        # Return a list with the id and the name\n",
    "        out = []\n",
    "        for i in index:\n",
    "            out.append((i, dict_ids[i]))\n",
    "        return out\n",
    "    \n",
    "    def check_data_consistency(self):\n",
    "        \"\"\"\n",
    "        Check if one film has two or more ids\n",
    "        \"\"\"\n",
    "        self.item_dict = {}\n",
    "        with io.open(self.items_id_file, 'rb') as f:\n",
    "            for line in f.readlines():\n",
    "                record = line.split(b'|')\n",
    "                self.item_dict[int(record[0])] = str(record[1])\n",
    "                \n",
    "        if len(set(self.item_dict.keys())) == len(set(self.item_dict.values())):\n",
    "            self.unique_item_dict_ = self.item_dict\n",
    "            return True\n",
    "        else:\n",
    "            self.duplicates_item_dict = {}\n",
    "            for id_,name in list(self.item_dict.items()):\n",
    "                if name not in self.duplicates_item_dict:\n",
    "                    self.duplicates_item_dict[name] = [id_]\n",
    "                else:\n",
    "                    self.duplicates_item_dict[name] = self.duplicates_item_dict[name]+[id_]\n",
    "\n",
    "            self.unique_id_item_dict ={}\n",
    "            for i, lista_id in enumerate(self.duplicates_item_dict.values()) :\n",
    "                for key in lista_id:\n",
    "                    self.unique_id_item_dict[key] = i\n",
    "\n",
    "            self.unique_item_dict_ = {self.unique_id_item_dict[k]:v \n",
    "                                for k,v in self.item_dict.items()}\n",
    "            return False\n",
    "    \n",
    "    def correcting_non_unique_movies(self, data_df):\n",
    "        \"\"\"\n",
    "        Preprocess data_df in case the check_data_consistency function fails\n",
    "        \"\"\"\n",
    "        if not self.check_data_consistency():\n",
    "            data_df['item_id'] = data_df['item_id'].apply(lambda x: self.unique_id_item_dict[x])\n",
    "            \n",
    "        return data_df\n",
    "            \n",
    "    def train(self, verbose=False):\n",
    "        \"\"\"\n",
    "        Train data\n",
    "        \"\"\"\n",
    "        self['train_set'] = self.read_data(self.train_file, verbose)\n",
    "        self['train_set'] = self.correcting_non_unique_movies(self['train_set'])\n",
    "        items = self['train_set'].item_id.unique()\n",
    "        self.train_id_dict = {j:i for i,j in enumerate(items)}\n",
    "        self['train_set']['item_id'] = self['train_set']['item_id'].apply(lambda x: self.train_id_dict[x])\n",
    "        self.unique_item_dict = {self.train_id_dict[v]:self.unique_item_dict_[v] \n",
    "                                for v in items}\n",
    "        self.n_users = self['train_set'].user_id.unique().shape[0]\n",
    "        self.n_items = self['train_set'].item_id.unique().shape[0]\n",
    "        self.n_pairs = self['train_set'].shape[0]\n",
    "        if verbose:\n",
    "            print('There are %s users, %s items and %s pairs in the test set' \\\n",
    "                  %(self.n_users, self.n_items, self.n_pairs))\n",
    "    \n",
    "    def test(self, verbose=False):\n",
    "        \"\"\"\n",
    "        Test data\n",
    "        \"\"\"\n",
    "        self['test_set'] = self.read_data(self.test_file, verbose)\n",
    "        self['test_set']['item_id'] = self['test_set']['item_id'].apply(lambda x: self.unique_id_item_dict[x])\n",
    "        self['test_set']['item_id'] = self['test_set']['item_id'].apply(lambda x: self.train_id_dict[x] if x in self.train_id_dict else -1)\n",
    "        self['test_set'] = self['test_set'][self['test_set']['item_id']!=-1]\n",
    "        if verbose:\n",
    "            print('There are %s users, %s items and %s pairs in the test set' \\\n",
    "                  %(self['test_set'].user_id.unique().shape[0], self['test_set'].item_id.unique().shape[0], \n",
    "                    self['test_set'].shape[0]))\n",
    "            \n",
    "    def get_data(self, verbose=False):\n",
    "        \"\"\"\n",
    "        A kind of main function to return train and test data together\n",
    "        \"\"\"\n",
    "        self.train(verbose)\n",
    "        self.test(verbose)"
   ]
  },
  {
   "cell_type": "code",
   "execution_count": 57,
   "metadata": {},
   "outputs": [],
   "source": [
    "m1 = movielens_100k(data_root=data_root)\n",
    "m1.get_data()"
   ]
  },
  {
   "cell_type": "code",
   "execution_count": 59,
   "metadata": {},
   "outputs": [
    {
     "data": {
      "text/html": [
       "<div>\n",
       "<style scoped>\n",
       "    .dataframe tbody tr th:only-of-type {\n",
       "        vertical-align: middle;\n",
       "    }\n",
       "\n",
       "    .dataframe tbody tr th {\n",
       "        vertical-align: top;\n",
       "    }\n",
       "\n",
       "    .dataframe thead th {\n",
       "        text-align: right;\n",
       "    }\n",
       "</style>\n",
       "<table border=\"1\" class=\"dataframe\">\n",
       "  <thead>\n",
       "    <tr style=\"text-align: right;\">\n",
       "      <th></th>\n",
       "      <th>user_id</th>\n",
       "      <th>item_id</th>\n",
       "      <th>rating</th>\n",
       "      <th>timestamp</th>\n",
       "    </tr>\n",
       "  </thead>\n",
       "  <tbody>\n",
       "    <tr>\n",
       "      <th>0</th>\n",
       "      <td>1</td>\n",
       "      <td>0</td>\n",
       "      <td>4</td>\n",
       "      <td>878542960</td>\n",
       "    </tr>\n",
       "    <tr>\n",
       "      <th>1</th>\n",
       "      <td>1</td>\n",
       "      <td>1</td>\n",
       "      <td>3</td>\n",
       "      <td>876893119</td>\n",
       "    </tr>\n",
       "    <tr>\n",
       "      <th>2</th>\n",
       "      <td>1</td>\n",
       "      <td>2</td>\n",
       "      <td>3</td>\n",
       "      <td>889751712</td>\n",
       "    </tr>\n",
       "    <tr>\n",
       "      <th>3</th>\n",
       "      <td>1</td>\n",
       "      <td>3</td>\n",
       "      <td>5</td>\n",
       "      <td>887431973</td>\n",
       "    </tr>\n",
       "    <tr>\n",
       "      <th>4</th>\n",
       "      <td>1</td>\n",
       "      <td>4</td>\n",
       "      <td>4</td>\n",
       "      <td>875071561</td>\n",
       "    </tr>\n",
       "  </tbody>\n",
       "</table>\n",
       "</div>"
      ],
      "text/plain": [
       "   user_id  item_id  rating  timestamp\n",
       "0        1        0       4  878542960\n",
       "1        1        1       3  876893119\n",
       "2        1        2       3  889751712\n",
       "3        1        3       5  887431973\n",
       "4        1        4       4  875071561"
      ]
     },
     "execution_count": 59,
     "metadata": {},
     "output_type": "execute_result"
    }
   ],
   "source": [
    "m1['train_set'].head()"
   ]
  },
  {
   "cell_type": "code",
   "execution_count": 60,
   "metadata": {},
   "outputs": [
    {
     "data": {
      "text/html": [
       "<div>\n",
       "<style scoped>\n",
       "    .dataframe tbody tr th:only-of-type {\n",
       "        vertical-align: middle;\n",
       "    }\n",
       "\n",
       "    .dataframe tbody tr th {\n",
       "        vertical-align: top;\n",
       "    }\n",
       "\n",
       "    .dataframe thead th {\n",
       "        text-align: right;\n",
       "    }\n",
       "</style>\n",
       "<table border=\"1\" class=\"dataframe\">\n",
       "  <thead>\n",
       "    <tr style=\"text-align: right;\">\n",
       "      <th></th>\n",
       "      <th>user_id</th>\n",
       "      <th>item_id</th>\n",
       "      <th>rating</th>\n",
       "      <th>timestamp</th>\n",
       "    </tr>\n",
       "  </thead>\n",
       "  <tbody>\n",
       "    <tr>\n",
       "      <th>0</th>\n",
       "      <td>1</td>\n",
       "      <td>289</td>\n",
       "      <td>5</td>\n",
       "      <td>874965758</td>\n",
       "    </tr>\n",
       "    <tr>\n",
       "      <th>1</th>\n",
       "      <td>1</td>\n",
       "      <td>290</td>\n",
       "      <td>3</td>\n",
       "      <td>876893171</td>\n",
       "    </tr>\n",
       "    <tr>\n",
       "      <th>2</th>\n",
       "      <td>1</td>\n",
       "      <td>373</td>\n",
       "      <td>1</td>\n",
       "      <td>875072484</td>\n",
       "    </tr>\n",
       "    <tr>\n",
       "      <th>3</th>\n",
       "      <td>1</td>\n",
       "      <td>374</td>\n",
       "      <td>5</td>\n",
       "      <td>878543541</td>\n",
       "    </tr>\n",
       "    <tr>\n",
       "      <th>4</th>\n",
       "      <td>1</td>\n",
       "      <td>665</td>\n",
       "      <td>1</td>\n",
       "      <td>878542772</td>\n",
       "    </tr>\n",
       "  </tbody>\n",
       "</table>\n",
       "</div>"
      ],
      "text/plain": [
       "   user_id  item_id  rating  timestamp\n",
       "0        1      289       5  874965758\n",
       "1        1      290       3  876893171\n",
       "2        1      373       1  875072484\n",
       "3        1      374       5  878543541\n",
       "4        1      665       1  878542772"
      ]
     },
     "execution_count": 60,
     "metadata": {},
     "output_type": "execute_result"
    }
   ],
   "source": [
    "m1['test_set'].head()"
   ]
  },
  {
   "cell_type": "code",
   "execution_count": 61,
   "metadata": {},
   "outputs": [
    {
     "data": {
      "text/html": [
       "<div>\n",
       "<style scoped>\n",
       "    .dataframe tbody tr th:only-of-type {\n",
       "        vertical-align: middle;\n",
       "    }\n",
       "\n",
       "    .dataframe tbody tr th {\n",
       "        vertical-align: top;\n",
       "    }\n",
       "\n",
       "    .dataframe thead th {\n",
       "        text-align: right;\n",
       "    }\n",
       "</style>\n",
       "<table border=\"1\" class=\"dataframe\">\n",
       "  <thead>\n",
       "    <tr style=\"text-align: right;\">\n",
       "      <th></th>\n",
       "      <th>user_id</th>\n",
       "      <th>item_id</th>\n",
       "      <th>rating</th>\n",
       "      <th>timestamp</th>\n",
       "    </tr>\n",
       "  </thead>\n",
       "  <tbody>\n",
       "    <tr>\n",
       "      <th>0</th>\n",
       "      <td>1</td>\n",
       "      <td>740</td>\n",
       "      <td>5</td>\n",
       "      <td>887431973</td>\n",
       "    </tr>\n",
       "    <tr>\n",
       "      <th>1</th>\n",
       "      <td>1</td>\n",
       "      <td>134</td>\n",
       "      <td>3</td>\n",
       "      <td>875693118</td>\n",
       "    </tr>\n",
       "    <tr>\n",
       "      <th>2</th>\n",
       "      <td>1</td>\n",
       "      <td>268</td>\n",
       "      <td>5</td>\n",
       "      <td>878542960</td>\n",
       "    </tr>\n",
       "    <tr>\n",
       "      <th>3</th>\n",
       "      <td>1</td>\n",
       "      <td>135</td>\n",
       "      <td>5</td>\n",
       "      <td>874965706</td>\n",
       "    </tr>\n",
       "    <tr>\n",
       "      <th>4</th>\n",
       "      <td>1</td>\n",
       "      <td>536</td>\n",
       "      <td>3</td>\n",
       "      <td>875073198</td>\n",
       "    </tr>\n",
       "  </tbody>\n",
       "</table>\n",
       "</div>"
      ],
      "text/plain": [
       "   user_id  item_id  rating  timestamp\n",
       "0        1      740       5  887431973\n",
       "1        1      134       3  875693118\n",
       "2        1      268       5  878542960\n",
       "3        1      135       5  874965706\n",
       "4        1      536       3  875073198"
      ]
     },
     "execution_count": 61,
     "metadata": {},
     "output_type": "execute_result"
    }
   ],
   "source": [
    "m2 = movielens_100k(data_root=data_root, train_file='u1.base', test_file='u1.test')\n",
    "m2.get_data()\n",
    "m2['test_set'].head()"
   ]
  },
  {
   "cell_type": "markdown",
   "metadata": {},
   "source": [
    "## 1.4 Train and test sets\n",
    "\n",
    "GroupLens provides several splits of the dataset, so that we can check the goodness of our algorithms. See the README file for more  details. Here we will use one of such splits.\n",
    "\n",
    "Please notice that we have to correct for the non-unique movie's id issue!!"
   ]
  },
  {
   "cell_type": "code",
   "execution_count": null,
   "metadata": {},
   "outputs": [],
   "source": [
    "l!ls $data_root"
   ]
  },
  {
   "cell_type": "code",
   "execution_count": null,
   "metadata": {},
   "outputs": [],
   "source": [
    "trainfile = os.path.join(data_root, 'ua.base')\n",
    "!head $trainfile"
   ]
  },
  {
   "cell_type": "code",
   "execution_count": null,
   "metadata": {},
   "outputs": [],
   "source": [
    "columns = ['user_id', 'item_id', 'rating', 'timestamp']\n",
    "trainfile = os.path.join(data_root, \"ua.base\")\n",
    "train = ?\n",
    "print('There are %s users, %s itmes and %s pairs in the train set' \\\n",
    "      %(train.user_id.unique().shape[0], train.item_id.unique().shape[0], train.item_id.count()))\n",
    "train.head()\n"
   ]
  },
  {
   "cell_type": "code",
   "execution_count": null,
   "metadata": {},
   "outputs": [],
   "source": [
    "# same for test\n",
    "columns = ['user_id', 'item_id', 'rating', 'timestamp']\n",
    "testfile = os.path.join(data_root, \"ua.test\")\n",
    "test = ?\n",
    "print('There are %s users, %s itmes and %s pairs in the test set' \\\n",
    "      %(test.user_id.unique().shape[0], test.item_id.unique().shape[0], test.item_id.count()))\n",
    "test.head()\n"
   ]
  },
  {
   "cell_type": "markdown",
   "metadata": {},
   "source": [
    "### Correcting for non-unique movies id \n",
    "\n",
    "Use Pandas `apply` method. Note it can be applied to all rows in a column, thus returning a Pandas Series; or it can be applied row-wise, he"
   ]
  },
  {
   "cell_type": "markdown",
   "metadata": {},
   "source": [
    "*Reminder of lambda functions in Python: is a way of calling short functions (1 line of code), without having to define the function in a separted cell.*"
   ]
  },
  {
   "cell_type": "code",
   "execution_count": null,
   "metadata": {},
   "outputs": [],
   "source": [
    "train['item_id'] = ?"
   ]
  },
  {
   "cell_type": "code",
   "execution_count": null,
   "metadata": {},
   "outputs": [],
   "source": [
    "test['item_id'] = ?"
   ]
  },
  {
   "cell_type": "markdown",
   "metadata": {},
   "source": [
    "<a id='popular'></a>\n",
    "## 2. Most popular movies\n",
    "\n",
    "Recommending popular items is a simple, yet quite effective baseline for recommendation. Indeed, most RS suffer from a strong *popularity bias*, i.e. they tend to recommend popular items more frequently than they should -just because suggesting what is popular is effective!-. There is a lot of research  devote to understand this behaviour and to develop recipies to avoid it. \n",
    "\n",
    "Movies can be ranked according to different popularity metrics:\n",
    "* Most rated movie (it is assumed that this is the most watched movie)\n",
    "* Most positively rated movie (rating > 4.0)\n",
    "* Highest rated movie"
   ]
  },
  {
   "cell_type": "markdown",
   "metadata": {},
   "source": [
    "## 2.1 Most rated movie"
   ]
  },
  {
   "cell_type": "code",
   "execution_count": 62,
   "metadata": {},
   "outputs": [],
   "source": [
    "train = m1['train_set']\n",
    "test = m1['test_set']"
   ]
  },
  {
   "cell_type": "code",
   "execution_count": 63,
   "metadata": {},
   "outputs": [
    {
     "data": {
      "text/plain": [
       "item_id\n",
       "0     65\n",
       "1    172\n",
       "2     66\n",
       "3     22\n",
       "4    318\n",
       "Name: user_id, dtype: int64"
      ]
     },
     "execution_count": 63,
     "metadata": {},
     "output_type": "execute_result"
    }
   ],
   "source": [
    "# group the train dataset by item and count the number of users using Pandas\n",
    "mostRated = train.groupby('item_id')['user_id'].count()\n",
    "mostRated.head()"
   ]
  },
  {
   "cell_type": "code",
   "execution_count": null,
   "metadata": {},
   "outputs": [],
   "source": [
    "mostRated.head()"
   ]
  },
  {
   "cell_type": "code",
   "execution_count": 64,
   "metadata": {},
   "outputs": [],
   "source": [
    "# sort in descending order\n",
    "mostRatedSorted = mostRated.sort_values(ascending=False)"
   ]
  },
  {
   "cell_type": "code",
   "execution_count": 65,
   "metadata": {},
   "outputs": [
    {
     "data": {
      "text/plain": [
       "item_id\n",
       "36     461\n",
       "80     414\n",
       "207    409\n",
       "298    406\n",
       "251    402\n",
       "Name: user_id, dtype: int64"
      ]
     },
     "execution_count": 65,
     "metadata": {},
     "output_type": "execute_result"
    }
   ],
   "source": [
    "mostRatedSorted.head()"
   ]
  },
  {
   "cell_type": "code",
   "execution_count": 66,
   "metadata": {},
   "outputs": [
    {
     "data": {
      "text/plain": [
       "{0: \"b'Four Rooms (1995)'\",\n",
       " 1: \"b'Get Shorty (1995)'\",\n",
       " 2: \"b'Copycat (1995)'\",\n",
       " 3: \"b'Shanghai Triad (Yao a yao yao dao waipo qiao) (1995)'\",\n",
       " 4: \"b'Twelve Monkeys (1995)'\",\n",
       " 5: \"b'Richard III (1995)'\",\n",
       " 6: \"b'Seven (Se7en) (1995)'\",\n",
       " 7: \"b'Usual Suspects, The (1995)'\",\n",
       " 8: \"b'Mighty Aphrodite (1995)'\",\n",
       " 9: \"b'Postino, Il (1994)'\",\n",
       " 10: 'b\"Mr. Holland\\'s Opus (1995)\"',\n",
       " 11: \"b'French Twist (Gazon maudit) (1995)'\",\n",
       " 12: \"b'From Dusk Till Dawn (1996)'\",\n",
       " 13: \"b'White Balloon, The (1995)'\",\n",
       " 14: 'b\"Antonia\\'s Line (1995)\"',\n",
       " 15: \"b'Angels and Insects (1995)'\",\n",
       " 16: \"b'Taxi Driver (1976)'\",\n",
       " 17: \"b'Rumble in the Bronx (1995)'\",\n",
       " 18: \"b'Birdcage, The (1996)'\",\n",
       " 19: \"b'Bad Boys (1995)'\",\n",
       " 20: \"b'Apollo 13 (1995)'\",\n",
       " 21: \"b'Batman Forever (1995)'\",\n",
       " 22: \"b'Crimson Tide (1995)'\",\n",
       " 23: \"b'Desperado (1995)'\",\n",
       " 24: \"b'Free Willy 2: The Adventure Home (1995)'\",\n",
       " 25: \"b'Mad Love (1995)'\",\n",
       " 26: \"b'Strange Days (1995)'\",\n",
       " 27: \"b'Billy Madison (1995)'\",\n",
       " 28: \"b'Clerks (1994)'\",\n",
       " 29: \"b'Disclosure (1994)'\",\n",
       " 30: \"b'Dolores Claiborne (1994)'\",\n",
       " 31: \"b'Eat Drink Man Woman (1994)'\",\n",
       " 32: \"b'Exotica (1994)'\",\n",
       " 33: \"b'Ed Wood (1994)'\",\n",
       " 34: \"b'Hoop Dreams (1994)'\",\n",
       " 35: \"b'I.Q. (1994)'\",\n",
       " 36: \"b'Star Wars (1977)'\",\n",
       " 37: \"b'Legends of the Fall (1994)'\",\n",
       " 38: \"b'Madness of King George, The (1994)'\",\n",
       " 39: \"b'Natural Born Killers (1994)'\",\n",
       " 40: \"b'Outbreak (1995)'\",\n",
       " 41: \"b'Professional, The (1994)'\",\n",
       " 42: \"b'Pulp Fiction (1994)'\",\n",
       " 43: \"b'Priest (1994)'\",\n",
       " 44: \"b'Quiz Show (1994)'\",\n",
       " 45: \"b'Three Colors: Red (1994)'\",\n",
       " 46: \"b'Three Colors: Blue (1993)'\",\n",
       " 47: \"b'Three Colors: White (1994)'\",\n",
       " 48: \"b'Stargate (1994)'\",\n",
       " 49: \"b'Shawshank Redemption, The (1994)'\",\n",
       " 50: 'b\"What\\'s Eating Gilbert Grape (1993)\"',\n",
       " 51: \"b'While You Were Sleeping (1995)'\",\n",
       " 52: \"b'Ace Ventura: Pet Detective (1994)'\",\n",
       " 53: \"b'Forrest Gump (1994)'\",\n",
       " 54: \"b'Four Weddings and a Funeral (1994)'\",\n",
       " 55: \"b'Lion King, The (1994)'\",\n",
       " 56: \"b'Mask, The (1994)'\",\n",
       " 57: \"b'Maverick (1994)'\",\n",
       " 58: \"b'Faster Pussycat! Kill! Kill! (1965)'\",\n",
       " 59: 'b\"Carlito\\'s Way (1993)\"',\n",
       " 60: \"b'Firm, The (1993)'\",\n",
       " 61: \"b'Free Willy (1993)'\",\n",
       " 62: \"b'Fugitive, The (1993)'\",\n",
       " 63: \"b'Hot Shots! Part Deux (1993)'\",\n",
       " 64: \"b'Hudsucker Proxy, The (1994)'\",\n",
       " 65: \"b'Jurassic Park (1993)'\",\n",
       " 66: \"b'Much Ado About Nothing (1993)'\",\n",
       " 67: 'b\"Robert A. Heinlein\\'s The Puppet Masters (1994)\"',\n",
       " 68: \"b'Ref, The (1994)'\",\n",
       " 69: \"b'Remains of the Day, The (1993)'\",\n",
       " 70: \"b'Searching for Bobby Fischer (1993)'\",\n",
       " 71: \"b'Sleepless in Seattle (1993)'\",\n",
       " 72: \"b'So I Married an Axe Murderer (1993)'\",\n",
       " 73: \"b'Nightmare Before Christmas, The (1993)'\",\n",
       " 74: \"b'True Romance (1993)'\",\n",
       " 75: \"b'Home Alone (1990)'\",\n",
       " 76: \"b'Aladdin (1992)'\",\n",
       " 77: \"b'Terminator 2: Judgment Day (1991)'\",\n",
       " 78: \"b'Dances with Wolves (1990)'\",\n",
       " 79: \"b'Silence of the Lambs, The (1991)'\",\n",
       " 80: \"b'Fargo (1996)'\",\n",
       " 81: \"b'Heavy Metal (1981)'\",\n",
       " 82: \"b'Aristocats, The (1970)'\",\n",
       " 83: \"b'All Dogs Go to Heaven 2 (1996)'\",\n",
       " 84: \"b'Theodore Rex (1995)'\",\n",
       " 85: \"b'Diabolique (1996)'\",\n",
       " 86: \"b'Moll Flanders (1996)'\",\n",
       " 87: \"b'Kids in the Hall: Brain Candy (1996)'\",\n",
       " 88: \"b'Mystery Science Theater 3000: The Movie (1996)'\",\n",
       " 89: \"b'Operation Dumbo Drop (1995)'\",\n",
       " 90: \"b'Truth About Cats & Dogs, The (1996)'\",\n",
       " 91: \"b'Flipper (1996)'\",\n",
       " 92: \"b'Horseman on the Roof, The (Hussard sur le toit, Le) (1995)'\",\n",
       " 93: \"b'Wallace & Gromit: The Best of Aardman Animation (1996)'\",\n",
       " 94: \"b'Haunted World of Edward D. Wood Jr., The (1995)'\",\n",
       " 95: \"b'Cold Comfort Farm (1995)'\",\n",
       " 96: \"b'Rock, The (1996)'\",\n",
       " 97: \"b'Twister (1996)'\",\n",
       " 98: \"b'Striptease (1996)'\",\n",
       " 99: \"b'Independence Day (ID4) (1996)'\",\n",
       " 100: \"b'Cable Guy, The (1996)'\",\n",
       " 101: \"b'Frighteners, The (1996)'\",\n",
       " 102: \"b'Lone Star (1996)'\",\n",
       " 103: \"b'Phenomenon (1996)'\",\n",
       " 104: \"b'Spitfire Grill, The (1996)'\",\n",
       " 105: \"b'Godfather, The (1972)'\",\n",
       " 106: \"b'Supercop (1992)'\",\n",
       " 107: \"b'Bound (1996)'\",\n",
       " 108: \"b'Kansas City (1996)'\",\n",
       " 109: \"b'Wizard of Oz, The (1939)'\",\n",
       " 110: \"b'Citizen Kane (1941)'\",\n",
       " 111: \"b'Big Night (1996)'\",\n",
       " 112: \"b'Love Bug, The (1969)'\",\n",
       " 113: \"b'Homeward Bound: The Incredible Journey (1993)'\",\n",
       " 114: \"b'Bedknobs and Broomsticks (1971)'\",\n",
       " 115: \"b'Sound of Music, The (1965)'\",\n",
       " 116: \"b'Lawnmower Man, The (1992)'\",\n",
       " 117: \"b'Ghost and the Darkness, The (1996)'\",\n",
       " 118: \"b'Jude (1996)'\",\n",
       " 119: \"b'Swingers (1996)'\",\n",
       " 120: \"b'Willy Wonka and the Chocolate Factory (1971)'\",\n",
       " 121: \"b'Sleeper (1973)'\",\n",
       " 122: \"b'Fish Called Wanda, A (1988)'\",\n",
       " 123: 'b\"Monty Python\\'s Life of Brian (1979)\"',\n",
       " 124: \"b'Dirty Dancing (1987)'\",\n",
       " 125: \"b'Reservoir Dogs (1992)'\",\n",
       " 126: \"b'Platoon (1986)'\",\n",
       " 127: \"b'Basic Instinct (1992)'\",\n",
       " 128: \"b'Glengarry Glen Ross (1992)'\",\n",
       " 129: \"b'Top Gun (1986)'\",\n",
       " 130: \"b'On Golden Pond (1981)'\",\n",
       " 131: \"b'Return of the Pink Panther, The (1974)'\",\n",
       " 132: \"b'Abyss, The (1989)'\",\n",
       " 133: \"b'Jean de Florette (1986)'\",\n",
       " 134: \"b'Private Benjamin (1980)'\",\n",
       " 135: \"b'Monty Python and the Holy Grail (1974)'\",\n",
       " 136: \"b'Wrong Trousers, The (1993)'\",\n",
       " 137: \"b'Cinema Paradiso (1988)'\",\n",
       " 138: \"b'Delicatessen (1991)'\",\n",
       " 139: \"b'Empire Strikes Back, The (1980)'\",\n",
       " 140: \"b'Raiders of the Lost Ark (1981)'\",\n",
       " 141: \"b'Brazil (1985)'\",\n",
       " 142: \"b'Good, The Bad and The Ugly, The (1966)'\",\n",
       " 143: \"b'12 Angry Men (1957)'\",\n",
       " 144: \"b'Apocalypse Now (1979)'\",\n",
       " 145: \"b'GoodFellas (1990)'\",\n",
       " 146: \"b'Alien (1979)'\",\n",
       " 147: \"b'Army of Darkness (1993)'\",\n",
       " 148: \"b'Psycho (1960)'\",\n",
       " 149: \"b'Blues Brothers, The (1980)'\",\n",
       " 150: \"b'Full Metal Jacket (1987)'\",\n",
       " 151: \"b'Grand Day Out, A (1992)'\",\n",
       " 152: \"b'Henry V (1989)'\",\n",
       " 153: \"b'Amadeus (1984)'\",\n",
       " 154: \"b'Raging Bull (1980)'\",\n",
       " 155: \"b'Right Stuff, The (1983)'\",\n",
       " 156: \"b'Terminator, The (1984)'\",\n",
       " 157: \"b'Dead Poets Society (1989)'\",\n",
       " 158: \"b'Nikita (La Femme Nikita) (1990)'\",\n",
       " 159: \"b'Bridge on the River Kwai, The (1957)'\",\n",
       " 160: \"b'Shining, The (1980)'\",\n",
       " 161: \"b'Evil Dead II (1987)'\",\n",
       " 162: \"b'Groundhog Day (1993)'\",\n",
       " 163: \"b'Unforgiven (1992)'\",\n",
       " 164: \"b'Back to the Future (1985)'\",\n",
       " 165: \"b'Akira (1988)'\",\n",
       " 166: \"b'Cyrano de Bergerac (1990)'\",\n",
       " 167: \"b'Young Frankenstein (1974)'\",\n",
       " 168: \"b'This Is Spinal Tap (1984)'\",\n",
       " 169: \"b'Indiana Jones and the Last Crusade (1989)'\",\n",
       " 170: \"b'Unbearable Lightness of Being, The (1988)'\",\n",
       " 171: \"b'Room with a View, A (1986)'\",\n",
       " 172: \"b'Pink Floyd - The Wall (1982)'\",\n",
       " 173: \"b'Field of Dreams (1989)'\",\n",
       " 174: \"b'When Harry Met Sally... (1989)'\",\n",
       " 175: 'b\"Bram Stoker\\'s Dracula (1992)\"',\n",
       " 176: \"b'Cape Fear (1991)'\",\n",
       " 177: \"b'Nightmare on Elm Street, A (1984)'\",\n",
       " 178: \"b'Breaking the Waves (1996)'\",\n",
       " 179: \"b'Star Trek: First Contact (1996)'\",\n",
       " 180: \"b'Sling Blade (1996)'\",\n",
       " 181: \"b'Ridicule (1996)'\",\n",
       " 182: \"b'101 Dalmatians (1996)'\",\n",
       " 183: \"b'Die Hard 2 (1990)'\",\n",
       " 184: \"b'Star Trek VI: The Undiscovered Country (1991)'\",\n",
       " 185: \"b'Star Trek: The Wrath of Khan (1982)'\",\n",
       " 186: \"b'Star Trek III: The Search for Spock (1984)'\",\n",
       " 187: \"b'Star Trek IV: The Voyage Home (1986)'\",\n",
       " 188: \"b'Batman Returns (1992)'\",\n",
       " 189: \"b'Young Guns (1988)'\",\n",
       " 190: \"b'Under Siege (1992)'\",\n",
       " 191: \"b'Mars Attacks! (1996)'\",\n",
       " 192: \"b'Citizen Ruth (1996)'\",\n",
       " 193: \"b'Raising Arizona (1987)'\",\n",
       " 194: \"b'Beavis and Butt-head Do America (1996)'\",\n",
       " 195: \"b'Last of the Mohicans, The (1992)'\",\n",
       " 196: \"b'Kolya (1996)'\",\n",
       " 197: \"b'Jungle2Jungle (1997)'\",\n",
       " 198: 'b\"Smilla\\'s Sense of Snow (1997)\"',\n",
       " 199: 'b\"Devil\\'s Own, The (1997)\"',\n",
       " 200: \"b'Grosse Pointe Blank (1997)'\",\n",
       " 201: \"b'Fifth Element, The (1997)'\",\n",
       " 202: \"b'Shall We Dance? (1996)'\",\n",
       " 203: \"b'Lost World: Jurassic Park, The (1997)'\",\n",
       " 204: \"b'Pillow Book, The (1995)'\",\n",
       " 205: \"b'Batman & Robin (1997)'\",\n",
       " 206: 'b\"My Best Friend\\'s Wedding (1997)\"',\n",
       " 207: \"b'Contact (1997)'\",\n",
       " 208: \"b'George of the Jungle (1997)'\",\n",
       " 209: \"b'Event Horizon (1997)'\",\n",
       " 210: \"b'Air Bud (1997)'\",\n",
       " 211: \"b'In the Company of Men (1997)'\",\n",
       " 212: \"b'Steel (1997)'\",\n",
       " 213: \"b'Mimic (1997)'\",\n",
       " 214: \"b'Hunt for Red October, The (1990)'\",\n",
       " 215: \"b'Kull the Conqueror (1997)'\",\n",
       " 216: \"b'unknown'\",\n",
       " 217: \"b'Good Will Hunting (1997)'\",\n",
       " 218: \"b'Jerry Maguire (1996)'\",\n",
       " 219: \"b'Men in Black (1997)'\",\n",
       " 220: \"b'Full Monty, The (1997)'\",\n",
       " 221: \"b'Sabrina (1995)'\",\n",
       " 222: \"b'Sense and Sensibility (1995)'\",\n",
       " 223: \"b'Bed of Roses (1996)'\",\n",
       " 224: \"b'Once Upon a Time... When We Were Colored (1995)'\",\n",
       " 225: \"b'Up Close and Personal (1996)'\",\n",
       " 226: \"b'River Wild, The (1994)'\",\n",
       " 227: \"b'Tin Cup (1996)'\",\n",
       " 228: \"b'Secrets & Lies (1996)'\",\n",
       " 229: \"b'English Patient, The (1996)'\",\n",
       " 230: \"b'Scream (1996)'\",\n",
       " 231: \"b'Evita (1996)'\",\n",
       " 232: \"b'Fierce Creatures (1997)'\",\n",
       " 233: \"b'Rosewood (1997)'\",\n",
       " 234: \"b'Promesse, La (1996)'\",\n",
       " 235: 'b\"Ulee\\'s Gold (1997)\"',\n",
       " 236: \"b'Face/Off (1997)'\",\n",
       " 237: \"b'Hoodlum (1997)'\",\n",
       " 238: \"b'Air Force One (1997)'\",\n",
       " 239: \"b'In & Out (1997)'\",\n",
       " 240: \"b'L.A. Confidential (1997)'\",\n",
       " 241: \"b'Fly Away Home (1996)'\",\n",
       " 242: 'b\"Devil\\'s Advocate, The (1997)\"',\n",
       " 243: \"b'FairyTale: A True Story (1997)'\",\n",
       " 244: \"b'Wings of the Dove, The (1997)'\",\n",
       " 245: \"b'Midnight in the Garden of Good and Evil (1997)'\",\n",
       " 246: \"b'Titanic (1997)'\",\n",
       " 247: \"b'3 Ninjas: High Noon At Mega Mountain (1998)'\",\n",
       " 248: \"b'Apt Pupil (1998)'\",\n",
       " 249: \"b'As Good As It Gets (1997)'\",\n",
       " 250: \"b'Starship Troopers (1997)'\",\n",
       " 251: \"b'Liar Liar (1997)'\",\n",
       " 252: 'b\"Schindler\\'s List (1993)\"',\n",
       " 253: \"b'Everyone Says I Love You (1996)'\",\n",
       " 254: 'b\"Dante\\'s Peak (1997)\"',\n",
       " 255: \"b'Lost Highway (1997)'\",\n",
       " 256: \"b'Crash (1996)'\",\n",
       " 257: \"b'G.I. Jane (1997)'\",\n",
       " 258: \"b'Cop Land (1997)'\",\n",
       " 259: \"b'Conspiracy Theory (1997)'\",\n",
       " 260: \"b'187 (1997)'\",\n",
       " 261: \"b'Edge, The (1997)'\",\n",
       " 262: \"b'Kiss the Girls (1997)'\",\n",
       " 263: \"b'Game, The (1997)'\",\n",
       " 264: \"b'U Turn (1997)'\",\n",
       " 265: \"b'How to Be a Player (1997)'\",\n",
       " 266: \"b'Playing God (1997)'\",\n",
       " 267: \"b'House of Yes, The (1997)'\",\n",
       " 268: \"b'Boogie Nights (1997)'\",\n",
       " 269: \"b'Critical Care (1997)'\",\n",
       " 270: \"b'Alien: Resurrection (1997)'\",\n",
       " 271: \"b'Apostle, The (1997)'\",\n",
       " 272: \"b'Deconstructing Harry (1997)'\",\n",
       " 273: \"b'Jackie Brown (1997)'\",\n",
       " 274: \"b'Wag the Dog (1997)'\",\n",
       " 275: \"b'Desperate Measures (1998)'\",\n",
       " 276: \"b'Hard Rain (1998)'\",\n",
       " 277: \"b'Fallen (1998)'\",\n",
       " 278: \"b'Prophecy II, The (1998)'\",\n",
       " 279: \"b'Spice World (1997)'\",\n",
       " 280: \"b'Deep Rising (1998)'\",\n",
       " 281: \"b'Wedding Singer, The (1998)'\",\n",
       " 282: \"b'Client, The (1994)'\",\n",
       " 283: 'b\"One Flew Over the Cuckoo\\'s Nest (1975)\"',\n",
       " 284: \"b'Spawn (1997)'\",\n",
       " 285: \"b'Assignment, The (1997)'\",\n",
       " 286: \"b'Wonderland (1997)'\",\n",
       " 287: \"b'Incognito (1997)'\",\n",
       " 288: \"b'Blues Brothers 2000 (1998)'\",\n",
       " 289: \"b'Toy Story (1995)'\",\n",
       " 290: \"b'GoldenEye (1995)'\",\n",
       " 291: \"b'To Wong Foo, Thanks for Everything! Julie Newmar (1995)'\",\n",
       " 292: \"b'Santa Clause, The (1994)'\",\n",
       " 293: \"b'Blade Runner (1982)'\",\n",
       " 294: \"b'Sgt. Bilko (1996)'\",\n",
       " 295: \"b'Die Hard (1988)'\",\n",
       " 296: \"b'Princess Bride, The (1987)'\",\n",
       " 297: \"b'Aliens (1986)'\",\n",
       " 298: \"b'Return of the Jedi (1983)'\",\n",
       " 299: \"b'M*A*S*H (1970)'\",\n",
       " 300: \"b'Jaws (1975)'\",\n",
       " 301: \"b'Sneakers (1992)'\",\n",
       " 302: \"b'Sudden Death (1995)'\",\n",
       " 303: \"b'Ace Ventura: When Nature Calls (1995)'\",\n",
       " 304: \"b'Powder (1995)'\",\n",
       " 305: \"b'Dangerous Minds (1995)'\",\n",
       " 306: \"b'Clueless (1995)'\",\n",
       " 307: \"b'Bio-Dome (1996)'\",\n",
       " 308: \"b'Black Sheep (1996)'\",\n",
       " 309: \"b'Mary Reilly (1996)'\",\n",
       " 310: \"b'Jeffrey (1995)'\",\n",
       " 311: \"b'Judge Dredd (1995)'\",\n",
       " 312: \"b'Mighty Morphin Power Rangers: The Movie (1995)'\",\n",
       " 313: \"b'Showgirls (1995)'\",\n",
       " 314: \"b'Houseguest (1994)'\",\n",
       " 315: \"b'Heavyweights (1994)'\",\n",
       " 316: \"b'Tales From the Crypt Presents: Demon Knight (1995)'\",\n",
       " 317: \"b'Star Trek: Generations (1994)'\",\n",
       " 318: \"b'Adventures of Priscilla, Queen of the Desert, The (1994)'\",\n",
       " 319: \"b'Flintstones, The (1994)'\",\n",
       " 320: \"b'Naked Gun 33 1/3: The Final Insult (1994)'\",\n",
       " 321: \"b'True Lies (1994)'\",\n",
       " 322: \"b'Addams Family Values (1993)'\",\n",
       " 323: \"b'Age of Innocence, The (1993)'\",\n",
       " 324: \"b'Beverly Hills Cop III (1994)'\",\n",
       " 325: \"b'Black Beauty (1994)'\",\n",
       " 326: \"b'Last Action Hero (1993)'\",\n",
       " 327: \"b'Mrs. Doubtfire (1993)'\",\n",
       " 328: \"b'Radioland Murders (1994)'\",\n",
       " 329: \"b'Serial Mom (1994)'\",\n",
       " 330: \"b'Striking Distance (1993)'\",\n",
       " 331: \"b'Super Mario Bros. (1993)'\",\n",
       " 332: \"b'Little Rascals, The (1994)'\",\n",
       " 333: \"b'Ghost (1990)'\",\n",
       " 334: \"b'Batman (1989)'\",\n",
       " 335: \"b'Pinocchio (1940)'\",\n",
       " 336: \"b'Thinner (1996)'\",\n",
       " 337: \"b'Spy Hard (1996)'\",\n",
       " 338: \"b'Jack (1996)'\",\n",
       " 339: \"b'Kingpin (1996)'\",\n",
       " 340: \"b'Nutty Professor, The (1996)'\",\n",
       " 341: \"b'Very Brady Sequel, A (1996)'\",\n",
       " 342: \"b'Tales from the Crypt Presents: Bordello of Blood (1996)'\",\n",
       " 343: \"b'Parent Trap, The (1961)'\",\n",
       " 344: \"b'Cinderella (1950)'\",\n",
       " 345: \"b'Mary Poppins (1964)'\",\n",
       " 346: \"b'Alice in Wonderland (1951)'\",\n",
       " 347: 'b\"William Shakespeare\\'s Romeo and Juliet (1996)\"',\n",
       " 348: \"b'Aladdin and the King of Thieves (1996)'\",\n",
       " 349: \"b'E.T. the Extra-Terrestrial (1982)'\",\n",
       " 350: \"b'Children of the Corn: The Gathering (1996)'\",\n",
       " 351: \"b'Bob Roberts (1992)'\",\n",
       " 352: \"b'Transformers: The Movie, The (1986)'\",\n",
       " 353: \"b'Harold and Maude (1971)'\",\n",
       " 354: \"b'Day the Earth Stood Still, The (1951)'\",\n",
       " 355: \"b'Highlander (1986)'\",\n",
       " 356: \"b'Heathers (1989)'\",\n",
       " 357: \"b'Forbidden Planet (1956)'\",\n",
       " 358: \"b'Butch Cassidy and the Sundance Kid (1969)'\",\n",
       " 359: \"b'American Werewolf in London, An (1981)'\",\n",
       " 360: \"b'Amityville 3-D (1983)'\",\n",
       " 361: \"b'Amityville: A New Generation (1993)'\",\n",
       " 362: \"b'Amityville Horror, The (1979)'\",\n",
       " 363: \"b'Blob, The (1958)'\",\n",
       " 364: \"b'Body Snatcher, The (1945)'\",\n",
       " 365: \"b'Burnt Offerings (1976)'\",\n",
       " 366: \"b'Carrie (1976)'\",\n",
       " 367: \"b'Omen, The (1976)'\",\n",
       " 368: \"b'Star Trek V: The Final Frontier (1989)'\",\n",
       " 369: \"b'Jaws 3-D (1983)'\",\n",
       " 370: \"b'Bastard Out of Carolina (1996)'\",\n",
       " 371: 'b\"Jackie Chan\\'s First Strike (1996)\"',\n",
       " 372: \"b'Free Willy 3: The Rescue (1997)'\",\n",
       " 373: \"b'Babe (1995)'\",\n",
       " 374: \"b'Dead Man Walking (1995)'\",\n",
       " 375: \"b'Crumb (1994)'\",\n",
       " 376: 'b\"Breakfast at Tiffany\\'s (1961)\"',\n",
       " 377: \"b'Gone with the Wind (1939)'\",\n",
       " 378: \"b'2001: A Space Odyssey (1968)'\",\n",
       " 379: \"b'Mr. Smith Goes to Washington (1939)'\",\n",
       " 380: \"b'Godfather: Part II, The (1974)'\",\n",
       " 381: \"b'Graduate, The (1967)'\",\n",
       " 382: \"b'Patton (1970)'\",\n",
       " 383: \"b'Chasing Amy (1997)'\",\n",
       " 384: \"b'Leaving Las Vegas (1995)'\",\n",
       " 385: \"b'Mrs. Brown (Her Majesty, Mrs. Brown) (1997)'\",\n",
       " 386: \"b'Deceiver (1997)'\",\n",
       " 387: \"b'In the Name of the Father (1993)'\",\n",
       " 388: \"b'Fantasia (1940)'\",\n",
       " 389: \"b'Nixon (1995)'\",\n",
       " 390: \"b'Cry, the Beloved Country (1995)'\",\n",
       " 391: \"b'Crossing Guard, The (1995)'\",\n",
       " 392: \"b'Like Water For Chocolate (Como agua para chocolate) (1992)'\",\n",
       " 393: \"b'Secret of Roan Inish, The (1994)'\",\n",
       " 394: \"b'Vanya on 42nd Street (1994)'\",\n",
       " 395: \"b'Red Rock West (1992)'\",\n",
       " 396: \"b'Bronx Tale, A (1993)'\",\n",
       " 397: \"b'Rudy (1993)'\",\n",
       " 398: \"b'Short Cuts (1993)'\",\n",
       " 399: \"b'Tombstone (1993)'\",\n",
       " 400: \"b'Courage Under Fire (1996)'\",\n",
       " 401: \"b'Dragonheart (1996)'\",\n",
       " 402: \"b'Dr. Strangelove or: How I Learned to Stop Worrying and Love the Bomb (1963)'\",\n",
       " 403: \"b'Trainspotting (1996)'\",\n",
       " 404: \"b'First Wives Club, The (1996)'\",\n",
       " 405: \"b'Matilda (1996)'\",\n",
       " 406: \"b'Philadelphia Story, The (1940)'\",\n",
       " 407: \"b'Vertigo (1958)'\",\n",
       " 408: \"b'North by Northwest (1959)'\",\n",
       " 409: \"b'Apartment, The (1960)'\",\n",
       " 410: \"b'Casablanca (1942)'\",\n",
       " 411: \"b'Maltese Falcon, The (1941)'\",\n",
       " 412: \"b'Sabrina (1954)'\",\n",
       " 413: \"b'Roman Holiday (1953)'\",\n",
       " 414: \"b'Sunset Blvd. (1950)'\",\n",
       " 415: \"b'Notorious (1946)'\",\n",
       " 416: \"b'To Catch a Thief (1955)'\",\n",
       " 417: \"b'Adventures of Robin Hood, The (1938)'\",\n",
       " 418: \"b'East of Eden (1955)'\",\n",
       " 419: 'b\"It\\'s a Wonderful Life (1946)\"',\n",
       " 420: \"b'Bringing Up Baby (1938)'\",\n",
       " 421: \"b'African Queen, The (1951)'\",\n",
       " 422: \"b'Cat on a Hot Tin Roof (1958)'\",\n",
       " 423: \"b'Bananas (1971)'\",\n",
       " 424: \"b'Rebel Without a Cause (1955)'\",\n",
       " 425: \"b'People vs. Larry Flynt, The (1996)'\",\n",
       " 426: \"b'My Left Foot (1989)'\",\n",
       " 427: \"b'Lawrence of Arabia (1962)'\",\n",
       " 428: \"b'Third Man, The (1949)'\",\n",
       " 429: \"b'Boot, Das (1981)'\",\n",
       " 430: \"b'Manhattan (1979)'\",\n",
       " 431: 'b\"Miller\\'s Crossing (1990)\"',\n",
       " 432: \"b'Treasure of the Sierra Madre, The (1948)'\",\n",
       " 433: \"b'Deer Hunter, The (1978)'\",\n",
       " 434: \"b'Cool Hand Luke (1967)'\",\n",
       " 435: \"b'Great Dictator, The (1940)'\",\n",
       " 436: \"b'Big Sleep, The (1946)'\",\n",
       " 437: \"b'Ben-Hur (1959)'\",\n",
       " 438: \"b'Gandhi (1982)'\",\n",
       " 439: \"b'Killing Fields, The (1984)'\",\n",
       " 440: \"b'Shine (1996)'\",\n",
       " 441: \"b'Kama Sutra: A Tale of Love (1996)'\",\n",
       " 442: \"b'Daytrippers, The (1996)'\",\n",
       " 443: \"b'Traveller (1997)'\",\n",
       " 444: \"b'Addicted to Love (1997)'\",\n",
       " 445: \"b'My Own Private Idaho (1991)'\",\n",
       " 446: \"b'Mouse Hunt (1997)'\",\n",
       " 447: \"b'Braveheart (1995)'\",\n",
       " 448: \"b'Crow, The (1994)'\",\n",
       " 449: \"b'Welcome to the Dollhouse (1995)'\",\n",
       " 450: \"b'20,000 Leagues Under the Sea (1954)'\",\n",
       " 451: \"b'Manon of the Spring (Manon des sources) (1986)'\",\n",
       " 452: \"b'Clockwork Orange, A (1971)'\",\n",
       " 453: \"b'Heat (1995)'\",\n",
       " 454: \"b'Miracle on 34th Street (1994)'\",\n",
       " 455: \"b'Three Musketeers, The (1993)'\",\n",
       " 456: \"b'Brady Bunch Movie, The (1995)'\",\n",
       " 457: \"b'Apple Dumpling Gang, The (1975)'\",\n",
       " 458: \"b'To Kill a Mockingbird (1962)'\",\n",
       " 459: \"b'Duck Soup (1933)'\",\n",
       " 460: \"b'Birds, The (1963)'\",\n",
       " 461: \"b'Grease (1978)'\",\n",
       " 462: \"b'Jaws 2 (1978)'\",\n",
       " 463: \"b'Smoke (1995)'\",\n",
       " 464: \"b'Some Like It Hot (1959)'\",\n",
       " 465: \"b'My Fair Lady (1964)'\",\n",
       " 466: \"b'Around the World in 80 Days (1956)'\",\n",
       " 467: \"b'Dumbo (1941)'\",\n",
       " 468: \"b'Candidate, The (1972)'\",\n",
       " 469: \"b'Bonnie and Clyde (1967)'\",\n",
       " 470: \"b'Dial M for Murder (1954)'\",\n",
       " 471: \"b'Magnificent Seven, The (1954)'\",\n",
       " 472: \"b'Annie Hall (1977)'\",\n",
       " 473: \"b'Great Escape, The (1963)'\",\n",
       " 474: \"b'Man Who Would Be King, The (1975)'\",\n",
       " 475: \"b'Money Train (1995)'\",\n",
       " 476: \"b'Mortal Kombat (1995)'\",\n",
       " 477: \"b'Pocahontas (1995)'\",\n",
       " 478: \"b'Mis\\\\xe9rables, Les (1995)'\",\n",
       " 479: 'b\"Things to Do in Denver when You\\'re Dead (1995)\"',\n",
       " 480: \"b'Vampire in Brooklyn (1995)'\",\n",
       " 481: \"b'Broken Arrow (1996)'\",\n",
       " 482: \"b'NeverEnding Story III, The (1994)'\",\n",
       " 483: \"b'Rob Roy (1995)'\",\n",
       " 484: \"b'Die Hard: With a Vengeance (1995)'\",\n",
       " 485: \"b'Lord of Illusions (1995)'\",\n",
       " 486: \"b'Walk in the Clouds, A (1995)'\",\n",
       " 487: \"b'Waterworld (1995)'\",\n",
       " 488: 'b\"White Man\\'s Burden (1995)\"',\n",
       " 489: \"b'Interview with the Vampire (1994)'\",\n",
       " 490: 'b\"Kid in King Arthur\\'s Court, A (1995)\"',\n",
       " 491: 'b\"Mary Shelley\\'s Frankenstein (1994)\"',\n",
       " 492: \"b'Quick and the Dead, The (1995)'\",\n",
       " 493: 'b\"Stephen King\\'s The Langoliers (1995)\"',\n",
       " 494: \"b'Tales from the Hood (1995)'\",\n",
       " 495: \"b'Clear and Present Danger (1994)'\",\n",
       " 496: 'b\"Wes Craven\\'s New Nightmare (1994)\"',\n",
       " 497: \"b'Speed (1994)'\",\n",
       " 498: \"b'Wolf (1994)'\",\n",
       " 499: \"b'Wyatt Earp (1994)'\",\n",
       " 500: \"b'Body Snatchers (1993)'\",\n",
       " 501: 'b\"City Slickers II: The Legend of Curly\\'s Gold (1994)\"',\n",
       " 502: \"b'Cliffhanger (1993)'\",\n",
       " 503: \"b'Coneheads (1993)'\",\n",
       " 504: \"b'Fatal Instinct (1993)'\",\n",
       " 505: \"b'Englishman Who Went Up a Hill, But Came Down a Mountain, The (1995)'\",\n",
       " 506: \"b'Kalifornia (1993)'\",\n",
       " 507: \"b'Piano, The (1993)'\",\n",
       " 508: \"b'Terminal Velocity (1994)'\",\n",
       " 509: \"b'Hour of the Pig, The (1993)'\",\n",
       " 510: \"b'Wild Bunch, The (1969)'\",\n",
       " 511: \"b'Primal Fear (1996)'\",\n",
       " 512: \"b'True Crime (1995)'\",\n",
       " 513: \"b'Heavy (1995)'\",\n",
       " 514: \"b'Big Squeeze, The (1996)'\",\n",
       " 515: \"b'Police Story 4: Project S (Chao ji ji hua) (1993)'\",\n",
       " 516: \"b'For Whom the Bell Tolls (1943)'\",\n",
       " 517: \"b'American in Paris, An (1951)'\",\n",
       " 518: \"b'It Happened One Night (1934)'\",\n",
       " 519: \"b'Meet Me in St. Louis (1944)'\",\n",
       " 520: \"b'All About Eve (1950)'\",\n",
       " 521: \"b'Rebecca (1940)'\",\n",
       " 522: \"b'Spellbound (1945)'\",\n",
       " 523: \"b'Gigi (1958)'\",\n",
       " 524: \"b'Giant (1956)'\",\n",
       " 525: \"b'39 Steps, The (1935)'\",\n",
       " 526: \"b'Picnic (1955)'\",\n",
       " 527: \"b'Extreme Measures (1996)'\",\n",
       " 528: \"b'Davy Crockett, King of the Wild Frontier (1955)'\",\n",
       " 529: \"b'Swiss Family Robinson (1960)'\",\n",
       " 530: \"b'Angels in the Outfield (1994)'\",\n",
       " 531: \"b'Three Caballeros, The (1945)'\",\n",
       " 532: \"b'Sword in the Stone, The (1963)'\",\n",
       " 533: \"b'So Dear to My Heart (1949)'\",\n",
       " 534: \"b'Robin Hood: Prince of Thieves (1991)'\",\n",
       " 535: \"b'Victor/Victoria (1982)'\",\n",
       " 536: \"b'Great Race, The (1965)'\",\n",
       " 537: \"b'Crying Game, The (1992)'\",\n",
       " 538: 'b\"Sophie\\'s Choice (1982)\"',\n",
       " 539: \"b'Christmas Carol, A (1938)'\",\n",
       " 540: 'b\"Microcosmos: Le peuple de l\\'herbe (1996)\"',\n",
       " 541: \"b'Fog, The (1980)'\",\n",
       " 542: \"b'Escape from New York (1981)'\",\n",
       " 543: \"b'Howling, The (1981)'\",\n",
       " 544: \"b'Return of Martin Guerre, The (Retour de Martin Guerre, Le) (1982)'\",\n",
       " 545: \"b'Tin Drum, The (Blechtrommel, Die) (1979)'\",\n",
       " 546: \"b'Cook the Thief His Wife & Her Lover, The (1989)'\",\n",
       " 547: \"b'Paths of Glory (1957)'\",\n",
       " 548: \"b'Grifters, The (1990)'\",\n",
       " 549: \"b'The Innocent (1994)'\",\n",
       " 550: \"b'Thin Blue Line, The (1988)'\",\n",
       " 551: \"b'Paris Is Burning (1990)'\",\n",
       " 552: \"b'Ran (1985)'\",\n",
       " 553: \"b'Quiet Man, The (1952)'\",\n",
       " 554: \"b'Once Upon a Time in America (1984)'\",\n",
       " 555: \"b'Seventh Seal, The (Sjunde inseglet, Det) (1957)'\",\n",
       " 556: \"b'Glory (1989)'\",\n",
       " 557: \"b'Rosencrantz and Guildenstern Are Dead (1990)'\",\n",
       " 558: \"b'Touch of Evil (1958)'\",\n",
       " 559: \"b'Chinatown (1974)'\",\n",
       " 560: \"b'Stand by Me (1986)'\",\n",
       " 561: \"b'Manchurian Candidate, The (1962)'\",\n",
       " 562: \"b'Pump Up the Volume (1990)'\",\n",
       " 563: \"b'Arsenic and Old Lace (1944)'\",\n",
       " 564: \"b'High Noon (1952)'\",\n",
       " 565: \"b'Somewhere in Time (1980)'\",\n",
       " 566: \"b'Being There (1979)'\",\n",
       " 567: \"b'Paris, Texas (1984)'\",\n",
       " 568: 'b\"Blood For Dracula (Andy Warhol\\'s Dracula) (1974)\"',\n",
       " 569: \"b'Audrey Rose (1977)'\",\n",
       " 570: \"b'Blood Beach (1981)'\",\n",
       " 571: \"b'Body Parts (1991)'\",\n",
       " 572: \"b'Bride of Frankenstein (1935)'\",\n",
       " 573: \"b'Candyman (1992)'\",\n",
       " 574: \"b'Cape Fear (1962)'\",\n",
       " 575: \"b'Cat People (1982)'\",\n",
       " 576: \"b'Nosferatu (Nosferatu, eine Symphonie des Grauens) (1922)'\",\n",
       " 577: \"b'Crucible, The (1996)'\",\n",
       " 578: \"b'Wishmaster (1997)'\",\n",
       " 579: \"b'Rocket Man (1997)'\",\n",
       " 580: \"b'Bean (1997)'\",\n",
       " 581: \"b'Executive Decision (1996)'\",\n",
       " 582: \"b'Perfect World, A (1993)'\",\n",
       " 583: 'b\"McHale\\'s Navy (1997)\"',\n",
       " 584: \"b'Leave It to Beaver (1997)'\",\n",
       " 585: \"b'Jackal, The (1997)'\",\n",
       " 586: \"b'Bridges of Madison County, The (1995)'\",\n",
       " 587: \"b'Streetcar Named Desire, A (1951)'\",\n",
       " 588: \"b'Dark City (1998)'\",\n",
       " 589: \"b'Snow White and the Seven Dwarfs (1937)'\",\n",
       " 590: \"b'Sting, The (1973)'\",\n",
       " 591: \"b'Emma (1996)'\",\n",
       " 592: \"b'Mother (1996)'\",\n",
       " 593: \"b'My Favorite Year (1982)'\",\n",
       " 594: \"b'Thin Man, The (1934)'\",\n",
       " 595: \"b'Heavenly Creatures (1994)'\",\n",
       " 596: \"b'Beauty and the Beast (1991)'\",\n",
       " 597: \"b'Rear Window (1954)'\",\n",
       " 598: \"b'Laura (1944)'\",\n",
       " 599: \"b'Blue Angel, The (Blaue Engel, Der) (1930)'\",\n",
       " 600: \"b'M (1931)'\",\n",
       " 601: \"b'Casino (1995)'\",\n",
       " 602: \"b'Kicking and Screaming (1995)'\",\n",
       " 603: \"b'City Hall (1996)'\",\n",
       " 604: \"b'Browning Version, The (1994)'\",\n",
       " 605: \"b'Little Women (1994)'\",\n",
       " 606: \"b'Miami Rhapsody (1995)'\",\n",
       " 607: \"b'Wonderful, Horrible Life of Leni Riefenstahl, The (1993)'\",\n",
       " 608: \"b'Barcelona (1994)'\",\n",
       " 609: 'b\"Widows\\' Peak (1994)\"',\n",
       " 610: \"b'House of the Spirits, The (1993)'\",\n",
       " 611: 'b\"Singin\\' in the Rain (1952)\"',\n",
       " 612: \"b'Bad Moon (1996)'\",\n",
       " 613: \"b'Enchanted April (1991)'\",\n",
       " 614: \"b'Sex, Lies, and Videotape (1989)'\",\n",
       " 615: \"b'Strictly Ballroom (1992)'\",\n",
       " 616: \"b'Better Off Dead... (1985)'\",\n",
       " 617: \"b'Substance of Fire, The (1996)'\",\n",
       " 618: \"b'Tin Men (1987)'\",\n",
       " 619: \"b'Net, The (1995)'\",\n",
       " 620: \"b'Restoration (1995)'\",\n",
       " 621: \"b'Absolute Power (1997)'\",\n",
       " 622: \"b'Robin Hood: Men in Tights (1993)'\",\n",
       " 623: \"b'Star Trek: The Motion Picture (1979)'\",\n",
       " 624: \"b'Eraser (1996)'\",\n",
       " 625: \"b'Once Upon a Time in the West (1969)'\",\n",
       " 626: \"b'Fried Green Tomatoes (1991)'\",\n",
       " 627: \"b'Seven Years in Tibet (1997)'\",\n",
       " 628: \"b'Othello (1995)'\",\n",
       " 629: \"b'Carrington (1995)'\",\n",
       " 630: \"b'To Die For (1995)'\",\n",
       " 631: \"b'Juror, The (1996)'\",\n",
       " 632: \"b'In the Bleak Midwinter (1995)'\",\n",
       " 633: \"b'First Knight (1995)'\",\n",
       " 634: \"b'Mallrats (1995)'\",\n",
       " 635: \"b'Nine Months (1995)'\",\n",
       " 636: \"b'Boys on the Side (1995)'\",\n",
       " 637: \"b'Circle of Friends (1995)'\",\n",
       " 638: \"b'Exit to Eden (1994)'\",\n",
       " 639: \"b'Fluke (1995)'\",\n",
       " 640: \"b'Nell (1994)'\",\n",
       " 641: \"b'Queen Margot (Reine Margot, La) (1994)'\",\n",
       " 642: \"b'Dave (1993)'\",\n",
       " 643: \"b'Go Fish (1994)'\",\n",
       " 644: \"b'Made in America (1993)'\",\n",
       " 645: \"b'Philadelphia (1993)'\",\n",
       " 646: \"b'Shadowlands (1993)'\",\n",
       " 647: \"b'Sirens (1994)'\",\n",
       " 648: \"b'Threesome (1994)'\",\n",
       " 649: \"b'Pretty Woman (1990)'\",\n",
       " 650: \"b'Jane Eyre (1996)'\",\n",
       " 651: \"b'Last Supper, The (1995)'\",\n",
       " 652: \"b'Crow: City of Angels, The (1996)'\",\n",
       " 653: \"b'Michael Collins (1996)'\",\n",
       " 654: \"b'Real Genius (1985)'\",\n",
       " 655: \"b'Benny & Joon (1993)'\",\n",
       " 656: \"b'Saint, The (1997)'\",\n",
       " 657: \"b'Tomorrow Never Dies (1997)'\",\n",
       " 658: \"b'Replacement Killers, The (1998)'\",\n",
       " 659: \"b'Time to Kill, A (1996)'\",\n",
       " 660: 'b\"Muriel\\'s Wedding (1994)\"',\n",
       " 661: \"b'Old Yeller (1957)'\",\n",
       " 662: \"b'In the Line of Fire (1993)'\",\n",
       " 663: \"b'Burnt By the Sun (1994)'\",\n",
       " 664: \"b'Red Corner (1997)'\",\n",
       " 665: \"b'Muppet Treasure Island (1996)'\",\n",
       " 666: \"b'Nadja (1994)'\",\n",
       " 667: \"b'Long Kiss Goodnight, The (1996)'\",\n",
       " 668: 'b\"Weekend at Bernie\\'s (1989)\"',\n",
       " 669: \"b'Gattaca (1997)'\",\n",
       " 670: 'b\"Marvin\\'s Room (1996)\"',\n",
       " 671: \"b'Ice Storm, The (1997)'\",\n",
       " 672: \"b'Rainmaker, The (1997)'\",\n",
       " 673: \"b'Paradise Lost: The Child Murders at Robin Hood Hills (1996)'\",\n",
       " 674: \"b'Murder at 1600 (1997)'\",\n",
       " 675: \"b'Mission: Impossible (1996)'\",\n",
       " 676: 'b\"Amityville 1992: It\\'s About Time (1992)\"',\n",
       " 677: \"b'Amityville II: The Possession (1982)'\",\n",
       " 678: \"b'James and the Giant Peach (1996)'\",\n",
       " 679: \"b'Local Hero (1983)'\",\n",
       " 680: \"b'Down by Law (1986)'\",\n",
       " 681: \"b'Blown Away (1994)'\",\n",
       " 682: \"b'Hellraiser: Bloodline (1996)'\",\n",
       " 683: \"b'Hunchback of Notre Dame, The (1996)'\",\n",
       " 684: \"b'Lost Horizon (1937)'\",\n",
       " 685: \"b'Alien 3 (1992)'\",\n",
       " 686: \"b'Volcano (1997)'\",\n",
       " 687: \"b'I Know What You Did Last Summer (1997)'\",\n",
       " 688: \"b'American President, The (1995)'\",\n",
       " 689: \"b'Persuasion (1995)'\",\n",
       " 690: \"b'Home for the Holidays (1995)'\",\n",
       " 691: \"b'MatchMaker, The (1997)'\",\n",
       " 692: \"b'Amistad (1997)'\",\n",
       " 693: \"b'Jumanji (1995)'\",\n",
       " 694: \"b'Father of the Bride Part II (1995)'\",\n",
       " 695: \"b'Lawnmower Man 2: Beyond Cyberspace (1996)'\",\n",
       " 696: \"b'Fair Game (1995)'\",\n",
       " 697: \"b'Nick of Time (1995)'\",\n",
       " 698: \"b'Beautiful Girls (1996)'\",\n",
       " 699: \"b'If Lucy Fell (1996)'\",\n",
       " 700: \"b'Boomerang (1992)'\",\n",
       " 701: \"b'Man of the Year (1995)'\",\n",
       " 702: \"b'Addiction, The (1995)'\",\n",
       " 703: \"b'Johnny Mnemonic (1995)'\",\n",
       " 704: \"b'Kids (1995)'\",\n",
       " 705: \"b'Prophecy, The (1995)'\",\n",
       " 706: \"b'Something to Talk About (1995)'\",\n",
       " 707: \"b'Three Wishes (1995)'\",\n",
       " 708: \"b'Castle Freak (1995)'\",\n",
       " 709: \"b'Don Juan DeMarco (1995)'\",\n",
       " 710: \"b'Drop Zone (1994)'\",\n",
       " 711: \"b'Dumb & Dumber (1994)'\",\n",
       " 712: \"b'French Kiss (1995)'\",\n",
       " 713: \"b'Little Odessa (1994)'\",\n",
       " 714: \"b'Milk Money (1994)'\",\n",
       " 715: \"b'Beyond Bedlam (1993)'\",\n",
       " 716: \"b'Perez Family, The (1995)'\",\n",
       " 717: \"b'Roommates (1995)'\",\n",
       " 718: \"b'Relative Fear (1994)'\",\n",
       " 719: \"b'Swimming with Sharks (1995)'\",\n",
       " 720: \"b'Crooklyn (1994)'\",\n",
       " 721: \"b'It Could Happen to You (1994)'\",\n",
       " 722: \"b'Timecop (1994)'\",\n",
       " 723: \"b'Bad Company (1995)'\",\n",
       " 724: \"b'Boys Life (1995)'\",\n",
       " 725: \"b'Hard Target (1993)'\",\n",
       " 726: \"b'Heaven & Earth (1993)'\",\n",
       " 727: \"b'Manhattan Murder Mystery (1993)'\",\n",
       " 728: \"b'Menace II Society (1993)'\",\n",
       " 729: \"b'Poetic Justice (1993)'\",\n",
       " 730: \"b'Program, The (1993)'\",\n",
       " 731: \"b'Rising Sun (1993)'\",\n",
       " 732: \"b'Shadow, The (1994)'\",\n",
       " 733: \"b'Thirty-Two Short Films About Glenn Gould (1993)'\",\n",
       " 734: \"b'Andre (1994)'\",\n",
       " 735: \"b'Celluloid Closet, The (1995)'\",\n",
       " 736: \"b'Great Day in Harlem, A (1994)'\",\n",
       " 737: \"b'One Fine Day (1996)'\",\n",
       " 738: \"b'Candyman: Farewell to the Flesh (1995)'\",\n",
       " 739: \"b'Frisk (1995)'\",\n",
       " 740: \"b'Girl 6 (1996)'\",\n",
       " 741: \"b'Eddie (1996)'\",\n",
       " 742: \"b'Space Jam (1996)'\",\n",
       " 743: \"b'Mrs. Winterbourne (1996)'\",\n",
       " 744: \"b'Faces (1968)'\",\n",
       " 745: \"b'Mulholland Falls (1996)'\",\n",
       " 746: \"b'Arrival, The (1996)'\",\n",
       " 747: \"b'Phantom, The (1996)'\",\n",
       " 748: \"b'Alaska (1996)'\",\n",
       " 749: \"b'Power 98 (1995)'\",\n",
       " 750: \"b'Escape from L.A. (1996)'\",\n",
       " 751: \"b'Bogus (1996)'\",\n",
       " 752: \"b'Halloween: The Curse of Michael Myers (1995)'\",\n",
       " 753: \"b'Gay Divorcee, The (1934)'\",\n",
       " 754: \"b'Ninotchka (1939)'\",\n",
       " 755: \"b'Meet John Doe (1941)'\",\n",
       " 756: \"b'Loch Ness (1995)'\",\n",
       " 757: \"b'Last Man Standing (1996)'\",\n",
       " 758: \"b'Glimmer Man, The (1996)'\",\n",
       " 759: \"b'Pollyanna (1960)'\",\n",
       " 760: \"b'Freeway (1996)'\",\n",
       " 761: \"b'Looking for Richard (1996)'\",\n",
       " 762: \"b'Murder, My Sweet (1944)'\",\n",
       " 763: \"b'Bloody Child, The (1996)'\",\n",
       " 764: \"b'Braindead (1992)'\",\n",
       " 765: \"b'Bad Taste (1987)'\",\n",
       " 766: \"b'Night on Earth (1991)'\",\n",
       " 767: \"b'Paris Was a Woman (1995)'\",\n",
       " 768: \"b'Amityville: Dollhouse (1996)'\",\n",
       " 769: 'b\"April Fool\\'s Day (1986)\"',\n",
       " 770: \"b'Believers, The (1987)'\",\n",
       " 771: \"b'Nosferatu a Venezia (1986)'\",\n",
       " 772: \"b'Jingle All the Way (1996)'\",\n",
       " 773: \"b'Garden of Finzi-Contini, The (Giardino dei Finzi-Contini, Il) (1970)'\",\n",
       " 774: \"b'My Fellow Americans (1996)'\",\n",
       " 775: \"b'Michael (1996)'\",\n",
       " 776: \"b'Hearts and Minds (1996)'\",\n",
       " 777: \"b'Fools Rush In (1997)'\",\n",
       " 778: \"b'Touch (1997)'\",\n",
       " 779: \"b'Picture Perfect (1997)'\",\n",
       " 780: \"b'Career Girls (1997)'\",\n",
       " 781: 'b\"She\\'s So Lovely (1997)\"',\n",
       " 782: \"b'Money Talks (1997)'\",\n",
       " 783: \"b'Excess Baggage (1997)'\",\n",
       " 784: \"b'That Darn Cat! (1997)'\",\n",
       " 785: \"b'Washington Square (1997)'\",\n",
       " 786: \"b'Phantoms (1998)'\",\n",
       " 787: \"b'Life Less Ordinary, A (1997)'\",\n",
       " 788: 'b\"Eve\\'s Bayou (1997)\"',\n",
       " 789: \"b'One Night Stand (1997)'\",\n",
       " 790: \"b'Mortal Kombat: Annihilation (1997)'\",\n",
       " 791: \"b'Bent (1997)'\",\n",
       " 792: \"b'Flubber (1997)'\",\n",
       " 793: \"b'For Richer or Poorer (1997)'\",\n",
       " 794: \"b'Home Alone 3 (1997)'\",\n",
       " 795: \"b'Scream 2 (1997)'\",\n",
       " 796: \"b'Sweet Hereafter, The (1997)'\",\n",
       " 797: \"b'Time Tracers (1995)'\",\n",
       " 798: \"b'Postman, The (1997)'\",\n",
       " 799: \"b'Winter Guest, The (1997)'\",\n",
       " 800: \"b'Mr. Magoo (1997)'\",\n",
       " 801: \"b'Big Lebowski, The (1998)'\",\n",
       " 802: \"b'Afterglow (1997)'\",\n",
       " 803: \"b'Ma vie en rose (My Life in Pink) (1997)'\",\n",
       " 804: \"b'Great Expectations (1998)'\",\n",
       " 805: \"b'Oscar & Lucinda (1997)'\",\n",
       " 806: \"b'Vermin (1998)'\",\n",
       " 807: \"b'Half Baked (1998)'\",\n",
       " 808: \"b'Nil By Mouth (1997)'\",\n",
       " 809: \"b'Twilight (1998)'\",\n",
       " 810: \"b'U.S. Marshalls (1998)'\",\n",
       " 811: \"b'Love and Death on Long Island (1997)'\",\n",
       " 812: \"b'Primary Colors (1998)'\",\n",
       " 813: \"b'Lost in Space (1998)'\",\n",
       " 814: \"b'Mercury Rising (1998)'\",\n",
       " 815: \"b'City of Angels (1998)'\",\n",
       " 816: \"b'Close Shave, A (1995)'\",\n",
       " 817: \"b'Bullets Over Broadway (1994)'\",\n",
       " 818: \"b'That Thing You Do! (1996)'\",\n",
       " 819: \"b'City of Lost Children, The (1995)'\",\n",
       " 820: \"b'Dead Man (1995)'\",\n",
       " 821: \"b'Raise the Red Lantern (1991)'\",\n",
       " 822: \"b'Mirror Has Two Faces, The (1996)'\",\n",
       " 823: \"b'Austin Powers: International Man of Mystery (1997)'\",\n",
       " 824: \"b'Chamber, The (1996)'\",\n",
       " 825: \"b'Ransom (1996)'\",\n",
       " 826: \"b'Tango Lesson, The (1997)'\",\n",
       " 827: \"b'White Squall (1996)'\",\n",
       " 828: \"b'Unforgettable (1996)'\",\n",
       " 829: \"b'Harriet the Spy (1996)'\",\n",
       " 830: \"b'Island of Dr. Moreau, The (1996)'\",\n",
       " 831: \"b'First Kid (1996)'\",\n",
       " 832: \"b'Funeral, The (1996)'\",\n",
       " 833: 'b\"Preacher\\'s Wife, The (1996)\"',\n",
       " 834: \"b'Thousand Acres, A (1997)'\",\n",
       " 835: \"b'Smile Like Yours, A (1997)'\",\n",
       " 836: \"b'Romeo Is Bleeding (1993)'\",\n",
       " 837: \"b'Murder in the First (1995)'\",\n",
       " 838: \"b'Airheads (1994)'\",\n",
       " 839: 'b\"What\\'s Love Got to Do with It (1993)\"',\n",
       " 840: \"b'Killing Zoe (1994)'\",\n",
       " 841: \"b'Renaissance Man (1994)'\",\n",
       " 842: \"b'Charade (1963)'\",\n",
       " 843: \"b'Sleepers (1996)'\",\n",
       " 844: \"b'Brothers McMullen, The (1995)'\",\n",
       " 845: \"b'Man Without a Face, The (1993)'\",\n",
       " 846: \"b'His Girl Friday (1940)'\",\n",
       " 847: \"b'Wings of Desire (1987)'\",\n",
       " 848: \"b'My Life as a Dog (Mitt liv som hund) (1985)'\",\n",
       " 849: \"b'Father of the Bride (1950)'\",\n",
       " 850: \"b'Farewell My Concubine (1993)'\",\n",
       " 851: \"b'Georgia (1995)'\",\n",
       " 852: \"b'Blue in the Face (1995)'\",\n",
       " 853: \"b'Unstrung Heroes (1995)'\",\n",
       " 854: \"b'Unzipped (1995)'\",\n",
       " 855: \"b'Before Sunrise (1995)'\",\n",
       " 856: 'b\"Nobody\\'s Fool (1994)\"',\n",
       " 857: \"b'Pushing Hands (1992)'\",\n",
       " 858: \"b'To Live (Huozhe) (1994)'\",\n",
       " 859: \"b'Dazed and Confused (1993)'\",\n",
       " 860: \"b'Naked (1993)'\",\n",
       " 861: \"b'Orlando (1993)'\",\n",
       " 862: \"b'Ruby in Paradise (1993)'\",\n",
       " 863: \"b'Some Folks Call It a Sling Blade (1993)'\",\n",
       " 864: \"b'Month by the Lake, A (1995)'\",\n",
       " 865: \"b'Funny Face (1957)'\",\n",
       " 866: \"b'Affair to Remember, An (1957)'\",\n",
       " 867: \"b'Little Lord Fauntleroy (1936)'\",\n",
       " 868: \"b'Inspector General, The (1949)'\",\n",
       " 869: \"b'Hear My Song (1991)'\",\n",
       " 870: \"b'Mediterraneo (1991)'\",\n",
       " 871: \"b'Breakdown (1997)'\",\n",
       " 872: \"b'Village of the Damned (1995)'\",\n",
       " 873: \"b'Fan, The (1996)'\",\n",
       " 874: \"b'Congo (1995)'\",\n",
       " 875: \"b'Mute Witness (1994)'\",\n",
       " 876: \"b'In the Mouth of Madness (1995)'\",\n",
       " 877: \"b'Craft, The (1996)'\",\n",
       " 878: \"b'Chain Reaction (1996)'\",\n",
       " 879: \"b'Booty Call (1997)'\",\n",
       " 880: \"b'Eye for an Eye (1996)'\",\n",
       " 881: \"b'Fear (1996)'\",\n",
       " 882: \"b'Substitute, The (1996)'\",\n",
       " 883: 'b\"Heaven\\'s Prisoners (1996)\"',\n",
       " 884: \"b'Trigger Effect, The (1996)'\",\n",
       " 885: \"b'Mother Night (1996)'\",\n",
       " 886: \"b'Maximum Risk (1996)'\",\n",
       " 887: 'b\"Rich Man\\'s Wife, The (1996)\"',\n",
       " 888: \"b'Blood & Wine (1997)'\",\n",
       " 889: \"b'Turbulence (1997)'\",\n",
       " 890: \"b'Underworld (1997)'\",\n",
       " 891: \"b'Anna Karenina (1997)'\",\n",
       " 892: \"b'Keys to Tulsa (1997)'\",\n",
       " 893: \"b'Head Above Water (1996)'\",\n",
       " 894: \"b'Last Time I Committed Suicide, The (1997)'\",\n",
       " 895: \"b'Kiss Me, Guido (1997)'\",\n",
       " 896: \"b'Beverly Hills Ninja (1997)'\",\n",
       " 897: \"b'Corrina, Corrina (1994)'\",\n",
       " 898: \"b'Baby-Sitters Club, The (1995)'\",\n",
       " 899: \"b'Vegas Vacation (1997)'\",\n",
       " 900: \"b'Down Periscope (1996)'\",\n",
       " 901: \"b'Stuart Saves His Family (1995)'\",\n",
       " 902: \"b'Cabin Boy (1994)'\",\n",
       " 903: \"b'Clean Slate (1994)'\",\n",
       " 904: \"b'Lightning Jack (1994)'\",\n",
       " 905: \"b'Stupids, The (1996)'\",\n",
       " 906: \"b'Conan the Barbarian (1981)'\",\n",
       " 907: \"b'Geronimo: An American Legend (1993)'\",\n",
       " 908: \"b'Double vie de V\\\\xe9ronique, La (Double Life of Veronique, The) (1991)'\",\n",
       " 909: \"b'Until the End of the World (Bis ans Ende der Welt) (1991)'\",\n",
       " 910: \"b'Happy Gilmore (1996)'\",\n",
       " 911: \"b'Waiting for Guffman (1996)'\",\n",
       " 912: \"b'Winnie the Pooh and the Blustery Day (1968)'\",\n",
       " 913: \"b'Donnie Brasco (1997)'\",\n",
       " 914: \"b'Screamers (1995)'\",\n",
       " 915: \"b'Brassed Off (1996)'\",\n",
       " 916: \"b'I Shot Andy Warhol (1996)'\",\n",
       " 917: \"b'Stealing Beauty (1996)'\",\n",
       " 918: \"b'Basquiat (1996)'\",\n",
       " 919: \"b'Anaconda (1997)'\",\n",
       " 920: \"b'Shiloh (1997)'\",\n",
       " 921: \"b'Con Air (1997)'\",\n",
       " 922: \"b'Trees Lounge (1996)'\",\n",
       " 923: \"b'Tie Me Up! Tie Me Down! (1990)'\",\n",
       " 924: \"b'Die xue shuang xiong (Killer, The) (1989)'\",\n",
       " 925: \"b'Anastasia (1997)'\",\n",
       " 926: \"b'Gaslight (1944)'\",\n",
       " 927: \"b'Fast, Cheap & Out of Control (1997)'\",\n",
       " 928: \"b'Private Parts (1997)'\",\n",
       " 929: \"b'Mad City (1997)'\",\n",
       " 930: \"b'Love Jones (1997)'\",\n",
       " 931: \"b'Soul Food (1997)'\",\n",
       " 932: \"b'Fire Down Below (1997)'\",\n",
       " 933: \"b'Telling Lies in America (1997)'\",\n",
       " 934: \"b'Demolition Man (1993)'\",\n",
       " 935: \"b'Daylight (1996)'\",\n",
       " 936: \"b'Bulletproof (1996)'\",\n",
       " 937: \"b'Shooter, The (1995)'\",\n",
       " 938: \"b'Jungle Book, The (1994)'\",\n",
       " 939: \"b'Night of the Living Dead (1968)'\",\n",
       " 940: \"b'Casper (1995)'\",\n",
       " 941: \"b'In the Line of Duty 2 (1987)'\",\n",
       " 942: 'b\"Romy and Michele\\'s High School Reunion (1997)\"',\n",
       " 943: \"b'Grumpier Old Men (1995)'\",\n",
       " 944: \"b'Jury Duty (1995)'\",\n",
       " 945: \"b'Beverly Hillbillies, The (1993)'\",\n",
       " 946: \"b'Lassie (1994)'\",\n",
       " 947: \"b'Little Big League (1994)'\",\n",
       " 948: \"b'Quest, The (1996)'\",\n",
       " 949: \"b'Grease 2 (1982)'\",\n",
       " 950: \"b'Kundun (1997)'\",\n",
       " 951: \"b'Switchback (1997)'\",\n",
       " 952: \"b'Hamlet (1996)'\",\n",
       " 953: \"b'Only You (1994)'\",\n",
       " 954: \"b'With Honors (1994)'\",\n",
       " 955: \"b'Two if by Sea (1996)'\",\n",
       " 956: \"b'Forget Paris (1995)'\",\n",
       " 957: \"b'Rent-a-Kid (1995)'\",\n",
       " 958: \"b'Paper, The (1994)'\",\n",
       " 959: \"b'Fearless (1993)'\",\n",
       " 960: \"b'Malice (1993)'\",\n",
       " 961: 'b\"She\\'s the One (1996)\"',\n",
       " 962: \"b'House Arrest (1996)'\",\n",
       " 963: \"b'Ghost and Mrs. Muir, The (1947)'\",\n",
       " 964: \"b'Associate, The (1996)'\",\n",
       " 965: \"b'Peacemaker, The (1997)'\",\n",
       " 966: \"b'Fox and the Hound, The (1981)'\",\n",
       " 967: \"b'Indian in the Cupboard, The (1995)'\",\n",
       " 968: \"b'Hercules (1997)'\",\n",
       " 969: \"b'Now and Then (1995)'\",\n",
       " 970: \"b'Simple Twist of Fate, A (1994)'\",\n",
       " 971: \"b'Pallbearer, The (1996)'\",\n",
       " 972: \"b'War, The (1994)'\",\n",
       " 973: 'b\"Don\\'t Be a Menace to South Central While Drinking Your Juice in the Hood (1996)\"',\n",
       " 974: \"b'Adventures of Pinocchio, The (1996)'\",\n",
       " 975: \"b'Evening Star, The (1996)'\",\n",
       " 976: \"b'Dangerous Beauty (1998)'\",\n",
       " 977: \"b'Mrs. Dalloway (1997)'\",\n",
       " 978: \"b'Four Days in September (1997)'\",\n",
       " 979: \"b'Beautician and the Beast, The (1997)'\",\n",
       " 980: \"b'Little Princess, A (1995)'\",\n",
       " 981: \"b'When the Cats Away (Chacun cherche son chat) (1996)'\",\n",
       " 982: 'b\"Young Poisoner\\'s Handbook, The (1995)\"',\n",
       " 983: \"b'Drop Dead Fred (1991)'\",\n",
       " 984: 'b\"Star Maker, The (Uomo delle stelle, L\\') (1995)\"',\n",
       " 985: \"b'Amateur (1994)'\",\n",
       " 986: \"b'Living in Oblivion (1995)'\",\n",
       " 987: \"b'Shallow Grave (1994)'\",\n",
       " 988: \"b'Reality Bites (1994)'\",\n",
       " 989: \"b'Man of No Importance, A (1994)'\",\n",
       " 990: \"b'Pagemaster, The (1994)'\",\n",
       " 991: \"b'Love and a .45 (1994)'\",\n",
       " 992: \"b'Oliver & Company (1988)'\",\n",
       " 993: 'b\"Joe\\'s Apartment (1996)\"',\n",
       " 994: \"b'Curdled (1996)'\",\n",
       " 995: \"b'Female Perversions (1996)'\",\n",
       " 996: \"b'Anne Frank Remembered (1995)'\",\n",
       " 997: \"b'Carried Away (1996)'\",\n",
       " 998: 'b\"It\\'s My Party (1995)\"',\n",
       " 999: \"b'Double Team (1997)'\",\n",
       " ...}"
      ]
     },
     "execution_count": 66,
     "metadata": {},
     "output_type": "execute_result"
    }
   ],
   "source": [
    "m1.unique_item_dict"
   ]
  },
  {
   "cell_type": "code",
   "execution_count": 68,
   "metadata": {},
   "outputs": [],
   "source": [
    "# add the movie title, using the apply method, returning a Pandas Series in each row\n",
    "def add_tile(row):\n",
    "    id_ = row[0]\n",
    "    title_ = m1.unique_item_dict[id_]\n",
    "    freq_ = row[1]\n",
    "    new_row = [id_, title_, freq_]\n",
    "    return pd.Series(new_row, index=['id', 'title', 'freq'])\n",
    "\n",
    "mostRatedMovies = (mostRatedSorted\n",
    "                   .reset_index()\n",
    "                   .apply(add_tile, axis=1)\n",
    "                  )"
   ]
  },
  {
   "cell_type": "code",
   "execution_count": 69,
   "metadata": {},
   "outputs": [
    {
     "data": {
      "text/html": [
       "<div>\n",
       "<style scoped>\n",
       "    .dataframe tbody tr th:only-of-type {\n",
       "        vertical-align: middle;\n",
       "    }\n",
       "\n",
       "    .dataframe tbody tr th {\n",
       "        vertical-align: top;\n",
       "    }\n",
       "\n",
       "    .dataframe thead th {\n",
       "        text-align: right;\n",
       "    }\n",
       "</style>\n",
       "<table border=\"1\" class=\"dataframe\">\n",
       "  <thead>\n",
       "    <tr style=\"text-align: right;\">\n",
       "      <th></th>\n",
       "      <th>id</th>\n",
       "      <th>title</th>\n",
       "      <th>freq</th>\n",
       "    </tr>\n",
       "  </thead>\n",
       "  <tbody>\n",
       "    <tr>\n",
       "      <th>0</th>\n",
       "      <td>36</td>\n",
       "      <td>b'Star Wars (1977)'</td>\n",
       "      <td>461</td>\n",
       "    </tr>\n",
       "    <tr>\n",
       "      <th>1</th>\n",
       "      <td>80</td>\n",
       "      <td>b'Fargo (1996)'</td>\n",
       "      <td>414</td>\n",
       "    </tr>\n",
       "    <tr>\n",
       "      <th>2</th>\n",
       "      <td>207</td>\n",
       "      <td>b'Contact (1997)'</td>\n",
       "      <td>409</td>\n",
       "    </tr>\n",
       "    <tr>\n",
       "      <th>3</th>\n",
       "      <td>298</td>\n",
       "      <td>b'Return of the Jedi (1983)'</td>\n",
       "      <td>406</td>\n",
       "    </tr>\n",
       "    <tr>\n",
       "      <th>4</th>\n",
       "      <td>251</td>\n",
       "      <td>b'Liar Liar (1997)'</td>\n",
       "      <td>402</td>\n",
       "    </tr>\n",
       "  </tbody>\n",
       "</table>\n",
       "</div>"
      ],
      "text/plain": [
       "    id                         title  freq\n",
       "0   36           b'Star Wars (1977)'   461\n",
       "1   80               b'Fargo (1996)'   414\n",
       "2  207             b'Contact (1997)'   409\n",
       "3  298  b'Return of the Jedi (1983)'   406\n",
       "4  251           b'Liar Liar (1997)'   402"
      ]
     },
     "execution_count": 69,
     "metadata": {},
     "output_type": "execute_result"
    }
   ],
   "source": [
    "mostRatedMovies.head()"
   ]
  },
  {
   "cell_type": "markdown",
   "metadata": {},
   "source": [
    "## 2.2 Most positively rated movie\n",
    "\n",
    "Use the query method to filter values in train, `train.query('rating>4')`, or the traditional form `train[train.rating>4]`."
   ]
  },
  {
   "cell_type": "code",
   "execution_count": 101,
   "metadata": {},
   "outputs": [
    {
     "data": {
      "text/html": [
       "<div>\n",
       "<style scoped>\n",
       "    .dataframe tbody tr th:only-of-type {\n",
       "        vertical-align: middle;\n",
       "    }\n",
       "\n",
       "    .dataframe tbody tr th {\n",
       "        vertical-align: top;\n",
       "    }\n",
       "\n",
       "    .dataframe thead th {\n",
       "        text-align: right;\n",
       "    }\n",
       "</style>\n",
       "<table border=\"1\" class=\"dataframe\">\n",
       "  <thead>\n",
       "    <tr style=\"text-align: right;\">\n",
       "      <th></th>\n",
       "      <th>id</th>\n",
       "      <th>title</th>\n",
       "      <th>freq</th>\n",
       "    </tr>\n",
       "  </thead>\n",
       "  <tbody>\n",
       "    <tr>\n",
       "      <th>0</th>\n",
       "      <td>36</td>\n",
       "      <td>b'Star Wars (1977)'</td>\n",
       "      <td>397</td>\n",
       "    </tr>\n",
       "    <tr>\n",
       "      <th>1</th>\n",
       "      <td>80</td>\n",
       "      <td>b'Fargo (1996)'</td>\n",
       "      <td>334</td>\n",
       "    </tr>\n",
       "    <tr>\n",
       "      <th>2</th>\n",
       "      <td>298</td>\n",
       "      <td>b'Return of the Jedi (1983)'</td>\n",
       "      <td>302</td>\n",
       "    </tr>\n",
       "    <tr>\n",
       "      <th>3</th>\n",
       "      <td>105</td>\n",
       "      <td>b'Godfather, The (1972)'</td>\n",
       "      <td>283</td>\n",
       "    </tr>\n",
       "    <tr>\n",
       "      <th>4</th>\n",
       "      <td>140</td>\n",
       "      <td>b'Raiders of the Lost Ark (1981)'</td>\n",
       "      <td>280</td>\n",
       "    </tr>\n",
       "  </tbody>\n",
       "</table>\n",
       "</div>"
      ],
      "text/plain": [
       "    id                              title  freq\n",
       "0   36                b'Star Wars (1977)'   397\n",
       "1   80                    b'Fargo (1996)'   334\n",
       "2  298       b'Return of the Jedi (1983)'   302\n",
       "3  105           b'Godfather, The (1972)'   283\n",
       "4  140  b'Raiders of the Lost Ark (1981)'   280"
      ]
     },
     "execution_count": 101,
     "metadata": {},
     "output_type": "execute_result"
    }
   ],
   "source": [
    "mostPositiveRatedMovies = (train\n",
    "    .query('rating>=4')             \n",
    "    .groupby('item_id')['user_id']\n",
    "    .count()\n",
    "    .sort_values(ascending=False)\n",
    "    .reset_index()\n",
    "    .apply(add_tile, axis=1)\n",
    ")\n",
    "\n",
    "mostPositiveRatedMovies.head()"
   ]
  },
  {
   "cell_type": "markdown",
   "metadata": {},
   "source": [
    "## 2.3 Highest mean rating movie"
   ]
  },
  {
   "cell_type": "code",
   "execution_count": 71,
   "metadata": {
    "scrolled": true
   },
   "outputs": [
    {
     "data": {
      "text/plain": [
       "item_id\n",
       "0       [4, 3, 3, 2, 4, 1, 3, 5, 3, 3, 3, 2, 2, 4, 4, ...\n",
       "1       [3, 5, 4, 5, 4, 5, 4, 2, 4, 4, 3, 3, 3, 5, 4, ...\n",
       "2       [3, 3, 4, 4, 4, 3, 3, 2, 3, 3, 3, 3, 2, 3, 4, ...\n",
       "3       [5, 5, 3, 3, 5, 4, 4, 1, 4, 5, 2, 5, 4, 5, 3, ...\n",
       "4       [4, 2, 5, 3, 4, 4, 5, 1, 5, 4, 4, 4, 3, 5, 4, ...\n",
       "5       [3, 4, 3, 4, 4, 5, 5, 5, 5, 5, 4, 2, 5, 3, 3, ...\n",
       "6       [2, 4, 3, 3, 2, 1, 2, 4, 5, 3, 3, 4, 4, 4, 5, ...\n",
       "7       [5, 5, 5, 2, 5, 5, 4, 5, 4, 5, 4, 5, 4, 5, 5, ...\n",
       "8       [5, 4, 3, 4, 3, 5, 4, 4, 3, 3, 5, 4, 4, 4, 4, ...\n",
       "9       [5, 5, 4, 3, 5, 2, 5, 4, 4, 4, 4, 5, 4, 5, 4, ...\n",
       "10      [5, 3, 5, 5, 4, 5, 4, 4, 4, 4, 5, 4, 4, 2, 5, ...\n",
       "11      [5, 4, 4, 1, 3, 4, 3, 3, 3, 2, 3, 2, 4, 4, 3, ...\n",
       "12      [3, 4, 4, 3, 2, 3, 4, 2, 4, 3, 5, 3, 3, 4, 2, ...\n",
       "13                                  [4, 3, 1, 4, 2, 2, 3]\n",
       "14      [5, 3, 4, 5, 3, 4, 4, 4, 4, 5, 5, 5, 4, 4, 4, ...\n",
       "15      [4, 3, 1, 4, 3, 3, 1, 5, 2, 4, 1, 4, 4, 4, 5, ...\n",
       "16      [4, 4, 5, 5, 4, 4, 5, 4, 4, 5, 4, 4, 5, 5, 5, ...\n",
       "17      [3, 4, 1, 4, 3, 3, 4, 4, 2, 3, 4, 3, 4, 4, 4, ...\n",
       "18      [4, 3, 3, 1, 2, 3, 3, 4, 5, 3, 3, 4, 2, 5, 4, ...\n",
       "19      [2, 3, 2, 4, 2, 3, 3, 1, 4, 3, 5, 3, 3, 1, 3, ...\n",
       "20      [4, 2, 5, 5, 5, 5, 5, 3, 3, 4, 4, 4, 4, 5, 4, ...\n",
       "21      [1, 3, 2, 1, 3, 3, 3, 3, 3, 2, 3, 3, 2, 4, 3, ...\n",
       "22      [3, 4, 5, 4, 3, 4, 4, 4, 3, 5, 4, 4, 4, 4, 4, ...\n",
       "23      [4, 5, 2, 3, 1, 3, 4, 3, 3, 5, 3, 5, 5, 5, 3, ...\n",
       "24                         [1, 5, 1, 1, 2, 2, 3, 2, 1, 4]\n",
       "25                         [2, 3, 1, 1, 3, 2, 4, 2, 1, 2]\n",
       "26      [4, 5, 3, 5, 2, 4, 3, 3, 3, 4, 3, 4, 2, 1, 4, ...\n",
       "27      [2, 3, 1, 3, 2, 4, 3, 5, 3, 5, 5, 4, 3, 4, 4, ...\n",
       "28      [5, 5, 3, 4, 4, 4, 4, 5, 5, 3, 4, 4, 4, 1, 4, ...\n",
       "29      [4, 4, 3, 2, 3, 3, 3, 1, 3, 3, 4, 3, 3, 1, 1, ...\n",
       "                              ...                        \n",
       "1600                                               [3, 5]\n",
       "1601                                                  [2]\n",
       "1602                                                  [2]\n",
       "1603                                               [3, 5]\n",
       "1604                                                  [3]\n",
       "1605                                               [3, 5]\n",
       "1606                                                  [3]\n",
       "1607                                                  [2]\n",
       "1608                                         [4, 1, 4, 4]\n",
       "1609                                                  [2]\n",
       "1610                                                  [2]\n",
       "1611                                                  [3]\n",
       "1612                                                  [3]\n",
       "1613                                                  [2]\n",
       "1614                                                  [3]\n",
       "1615                                                  [1]\n",
       "1616                                               [2, 2]\n",
       "1617                                                  [3]\n",
       "1618                                                  [4]\n",
       "1619                                            [3, 5, 4]\n",
       "1620                                                  [3]\n",
       "1621                                                  [2]\n",
       "1622                                                  [3]\n",
       "1623                                                  [1]\n",
       "1624                                                  [3]\n",
       "1625                                                  [3]\n",
       "1626                                                  [4]\n",
       "1627                                                  [3]\n",
       "1628                                                  [3]\n",
       "1629                                                  [2]\n",
       "Name: rating, Length: 1630, dtype: object"
      ]
     },
     "execution_count": 71,
     "metadata": {},
     "output_type": "execute_result"
    }
   ],
   "source": [
    "train.groupby('item_id')['rating'].agg(list)"
   ]
  },
  {
   "cell_type": "code",
   "execution_count": 100,
   "metadata": {},
   "outputs": [
    {
     "data": {
      "text/html": [
       "<div>\n",
       "<style scoped>\n",
       "    .dataframe tbody tr th:only-of-type {\n",
       "        vertical-align: middle;\n",
       "    }\n",
       "\n",
       "    .dataframe tbody tr th {\n",
       "        vertical-align: top;\n",
       "    }\n",
       "\n",
       "    .dataframe thead th {\n",
       "        text-align: right;\n",
       "    }\n",
       "</style>\n",
       "<table border=\"1\" class=\"dataframe\">\n",
       "  <thead>\n",
       "    <tr style=\"text-align: right;\">\n",
       "      <th></th>\n",
       "      <th>id</th>\n",
       "      <th>title</th>\n",
       "      <th>freq</th>\n",
       "    </tr>\n",
       "  </thead>\n",
       "  <tbody>\n",
       "    <tr>\n",
       "      <th>0</th>\n",
       "      <td>252.0</td>\n",
       "      <td>b\"Schindler's List (1993)\"</td>\n",
       "      <td>4.512821</td>\n",
       "    </tr>\n",
       "    <tr>\n",
       "      <th>1</th>\n",
       "      <td>49.0</td>\n",
       "      <td>b'Shawshank Redemption, The (1994)'</td>\n",
       "      <td>4.466667</td>\n",
       "    </tr>\n",
       "    <tr>\n",
       "      <th>2</th>\n",
       "      <td>7.0</td>\n",
       "      <td>b'Usual Suspects, The (1995)'</td>\n",
       "      <td>4.395122</td>\n",
       "    </tr>\n",
       "    <tr>\n",
       "      <th>3</th>\n",
       "      <td>36.0</td>\n",
       "      <td>b'Star Wars (1977)'</td>\n",
       "      <td>4.364425</td>\n",
       "    </tr>\n",
       "    <tr>\n",
       "      <th>4</th>\n",
       "      <td>105.0</td>\n",
       "      <td>b'Godfather, The (1972)'</td>\n",
       "      <td>4.301205</td>\n",
       "    </tr>\n",
       "  </tbody>\n",
       "</table>\n",
       "</div>"
      ],
      "text/plain": [
       "      id                                title      freq\n",
       "0  252.0           b\"Schindler's List (1993)\"  4.512821\n",
       "1   49.0  b'Shawshank Redemption, The (1994)'  4.466667\n",
       "2    7.0        b'Usual Suspects, The (1995)'  4.395122\n",
       "3   36.0                  b'Star Wars (1977)'  4.364425\n",
       "4  105.0             b'Godfather, The (1972)'  4.301205"
      ]
     },
     "execution_count": 100,
     "metadata": {},
     "output_type": "execute_result"
    }
   ],
   "source": [
    "# obtain the highest rated movies, with a minium number of users/ratings.\n",
    "min_ratings = 200\n",
    "highestMeanRatedMovies = (train    \n",
    "    .groupby('item_id')['rating'].agg(list)\n",
    "    .apply(lambda l: np.mean(l) if len(l)>=min_ratings else 0.0)\n",
    "    .sort_values(ascending=False)\n",
    "    .reset_index()\n",
    "    .apply(add_tile, axis=1)\n",
    ")\n",
    "\n",
    "highestMeanRatedMovies.head()"
   ]
  },
  {
   "cell_type": "markdown",
   "metadata": {},
   "source": [
    "<div class  = \"alert alert-info\"> \n",
    "** QUESTION **: set the value of *min_ratings* to 1, and re-run the cell. What happens now? Change this value\n",
    "</div>"
   ]
  },
  {
   "cell_type": "markdown",
   "metadata": {},
   "source": [
    "<div class  = \"alert alert-info\"> \n",
    "** QUESTION **: Which method is better?? How to measure a recommender system? \n",
    "</div>"
   ]
  },
  {
   "cell_type": "markdown",
   "metadata": {},
   "source": [
    "<div class  = \"alert alert-info\"> \n",
    "** IMPORTANT QUESTION **: When might be useful to recommend popular items?\n",
    "</div>"
   ]
  },
  {
   "cell_type": "markdown",
   "metadata": {},
   "source": [
    "<a id='metrics'></a>\n",
    "## 3. Metrics for recommender systems\n",
    "\n",
    "As we have seen, even with the simplest solution --aka, recommending popular items-- is difficult to known which technique performs better. For this, there are a number of metrics that allow one to measure the goodness of a recommender system. \n",
    "\n",
    "Metrics can be design for measuring the relevance or accuracy of a recommendation, but they can be created for evaluating the novelty of a recommendation, or its diversity. \n",
    "\n",
    "For now, we will focus on relevance and accuracy. Several metrics exist:\n",
    "* Accuracy: rmse, mae.\n",
    "* Not ranked: Recall@k, Precision@k.\n",
    "* With rank disccount: map@k, ndcg@k.\n",
    "* With rank ordering: mean percentile rank.\n",
    "\n",
    "We will be definiing some of them whitin this class. For the moment, let's talk about precision and recall."
   ]
  },
  {
   "cell_type": "markdown",
   "metadata": {},
   "source": [
    "## 3.1 Precision and recall\n",
    "\n",
    "<img src=\"https://upload.wikimedia.org/wikipedia/commons/2/26/Precisionrecall.svg\" alt=\"Precision and Recall in IR\" style=\"float: right; width: 300px\"/>\n",
    "\n",
    "The concept of precision and recall comes form the world of information retrieval, have a look at the wikipedia:\n",
    "\n",
    "https://en.wikipedia.org/wiki/Precision_and_recall\n",
    "\n",
    "From this entry:\n",
    "\n",
    " * \"**precision** (also called positive predictive value) is the fraction of retrieved instances that are relevant\".\n",
    " * \"**recall** (also known as sensitivity) is the fraction of relevant instances that are retrieved\".\n",
    "\n",
    "<br />\n",
    "<div class  = \"alert alert-info\"> \n",
    "** QUESTION **: how do we know if some movie, unknown to the user, is relevant?\n",
    "</div>\n",
    "\n",
    "In other words, we cannot measure a false positive --something recommended that was not relevant--. In this regard, only recall-oriented metrics have an actual meaning in RS. Nonetheless, its common practice to define both metrics in RS as follows:\n",
    " \n",
    "### $$\\mathrm{recall}@N = \\frac{\\sum_{k=1}^N rel(k)}{\\sum_{i\\in \\mathcal{I}_u} 1}$$\n",
    "### $$\\mathrm{precision}@N = \\frac{\\sum_{k=1}^N rel(k)}{N}$$\n",
    "\n",
    "Here, $\\mathcal{I}_u$ is the set of items adopted by user $u$, and $rel(k)$ is the relevance of a recommendation at position k in the list of recommendations. For ratings, the relevance could be defined as those movies rated above a certain threshold, e.g. $r_{ui}>4.0$. \n",
    "\n",
    "**Important to note: since precision is pretty much the same as recall in RS, metrcis usch as the *area under the ROC curve* doesn't have any meaning!!**"
   ]
  },
  {
   "cell_type": "markdown",
   "metadata": {},
   "source": [
    "<div class = \"alert alert-success\">\n",
    "As an example, consider a user that watched the following films:\n",
    "<br /><br />\n",
    "'Designated Mourner, The (1997)'\n",
    "<br />\n",
    "'Money Talks (1997)'\n",
    "<br />\n",
    "'Madame Butterfly (1995)'\n",
    "<br />\n",
    "'Batman Forever (1995)'\n",
    "<br /><br />\n",
    "The recommended items were: \n",
    "<br /><br />\n",
    "'Batman (1989)' \n",
    "<br />\n",
    "'Madame Butterfly (1995)'\n",
    "<br /><br />\n",
    "**What would be the recall and precision @1? and @2?**\n",
    "<br />\n",
    "**What do you think of recommending Batman? Is a bad or a good recommendation?**\n",
    "</div>"
   ]
  },
  {
   "cell_type": "markdown",
   "metadata": {},
   "source": [
    "Please notice that there isn't any actual difference between precision and recall in the context of RS: both measure the relevance of the recommendations, and tell nothing about items recommended that haven't been adopted by the user. Thus, it make sense to define a normalized recall as:\n",
    "\n",
    "### $$\\mathrm{recall}@N = \\frac{\\sum_{i=1}^N rel_i}{\\mathrm{min}(N, \\sum_{i\\in \\mathcal{I}_u} 1})$$\n",
    "\n",
    "This way, results are normalized to 1 always."
   ]
  },
  {
   "cell_type": "markdown",
   "metadata": {},
   "source": [
    "<div class=\"alert alert-success\">\n",
    "**Exercise** Implement the above definition of recall\n",
    "</div>"
   ]
  },
  {
   "cell_type": "code",
   "execution_count": 76,
   "metadata": {},
   "outputs": [],
   "source": [
    "def recall_at_n(N, test, recommended, train=None):\n",
    "    \"\"\"\n",
    "    :param N: number of recommendations\n",
    "    :param test: list of movies seen by user in test\n",
    "    :param train: list of movies seen by user in train. This has to be removed from the recommended list \n",
    "    :param recommended: list of movies recommended\n",
    "    \n",
    "    :return the recall\n",
    "    \"\"\"\n",
    "    if train is not None: # Remove items in train\n",
    "        rec_true = []\n",
    "        for r in recommended:\n",
    "            if r not in train:\n",
    "                rec_true.append(r)\n",
    "    else:\n",
    "        rec_true = recommended    \n",
    "    intersection = len(set(rec_true[:N]) & set(test))\n",
    "    return intersection / float(np.minimum(N, len(test)))"
   ]
  },
  {
   "cell_type": "code",
   "execution_count": 77,
   "metadata": {},
   "outputs": [],
   "source": [
    "seen = ['Designated Mourner, The (1997)', 'Money Talks (1997)', \n",
    "        'Madame Butterfly (1995)', 'Batman Forever (1995)']\n",
    "recommended = ['Batman (1989)', 'Madame Butterfly (1995)']"
   ]
  },
  {
   "cell_type": "code",
   "execution_count": 78,
   "metadata": {},
   "outputs": [
    {
     "data": {
      "text/plain": [
       "0.0"
      ]
     },
     "execution_count": 78,
     "metadata": {},
     "output_type": "execute_result"
    }
   ],
   "source": [
    "recall_at_n(1, seen, recommended)"
   ]
  },
  {
   "cell_type": "code",
   "execution_count": 79,
   "metadata": {},
   "outputs": [
    {
     "data": {
      "text/plain": [
       "0.5"
      ]
     },
     "execution_count": 79,
     "metadata": {},
     "output_type": "execute_result"
    }
   ],
   "source": [
    "recall_at_n(2, seen, recommended)"
   ]
  },
  {
   "cell_type": "code",
   "execution_count": 80,
   "metadata": {},
   "outputs": [
    {
     "name": "stdout",
     "output_type": "stream",
     "text": [
      "0.3333333333333333\n",
      "0.25\n",
      "0.25\n"
     ]
    }
   ],
   "source": [
    "# Check it's well normalized\n",
    "print(recall_at_n(3, seen, recommended))\n",
    "print(recall_at_n(10, seen, recommended))\n",
    "print(recall_at_n(100, seen, recommended))"
   ]
  },
  {
   "cell_type": "markdown",
   "metadata": {},
   "source": [
    "### Now, use this implementation to measure the efficiency of the popularity baselines in the test set. Use the top-5 movies, for instance"
   ]
  },
  {
   "cell_type": "code",
   "execution_count": 87,
   "metadata": {},
   "outputs": [],
   "source": [
    "train_grouped = train.groupby('user_id')['item_id'].apply(list).reset_index()\n",
    "test_grouped = test.groupby('user_id')['item_id'].apply(list).reset_index()"
   ]
  },
  {
   "cell_type": "code",
   "execution_count": 94,
   "metadata": {},
   "outputs": [],
   "source": [
    "merged = pd.merge(train_grouped, test_grouped, on='user_id', \n",
    "                  how='inner', suffixes=('_train', '_test'))"
   ]
  },
  {
   "cell_type": "code",
   "execution_count": 95,
   "metadata": {},
   "outputs": [
    {
     "data": {
      "text/html": [
       "<div>\n",
       "<style scoped>\n",
       "    .dataframe tbody tr th:only-of-type {\n",
       "        vertical-align: middle;\n",
       "    }\n",
       "\n",
       "    .dataframe tbody tr th {\n",
       "        vertical-align: top;\n",
       "    }\n",
       "\n",
       "    .dataframe thead th {\n",
       "        text-align: right;\n",
       "    }\n",
       "</style>\n",
       "<table border=\"1\" class=\"dataframe\">\n",
       "  <thead>\n",
       "    <tr style=\"text-align: right;\">\n",
       "      <th></th>\n",
       "      <th>user_id</th>\n",
       "      <th>item_id_train</th>\n",
       "      <th>item_id_test</th>\n",
       "    </tr>\n",
       "  </thead>\n",
       "  <tbody>\n",
       "    <tr>\n",
       "      <th>0</th>\n",
       "      <td>1</td>\n",
       "      <td>[0, 1, 2, 3, 4, 5, 6, 7, 8, 9, 10, 11, 12, 13,...</td>\n",
       "      <td>[289, 290, 373, 374, 665, 447, 844, 1023, 375,...</td>\n",
       "    </tr>\n",
       "    <tr>\n",
       "      <th>1</th>\n",
       "      <td>2</td>\n",
       "      <td>[8, 14, 36, 80, 105, 218, 202, 206, 219, 220, ...</td>\n",
       "      <td>[289, 5, 9, 18, 90, 196, 207, 453, 384, 620, 6...</td>\n",
       "    </tr>\n",
       "    <tr>\n",
       "      <th>2</th>\n",
       "      <td>3</td>\n",
       "      <td>[199, 213, 250, 217, 251, 237, 238, 242, 252, ...</td>\n",
       "      <td>[298, 207, 209, 383, 230, 240, 235, 387, 673, ...</td>\n",
       "    </tr>\n",
       "    <tr>\n",
       "      <th>3</th>\n",
       "      <td>4</td>\n",
       "      <td>[6, 36, 209, 213, 230, 251, 239, 235, 255, 258...</td>\n",
       "      <td>[169, 207, 250, 238, 259, 275]</td>\n",
       "    </tr>\n",
       "    <tr>\n",
       "      <th>4</th>\n",
       "      <td>5</td>\n",
       "      <td>[289, 290, 12, 17, 291, 28, 48, 292, 51, 53, 6...</td>\n",
       "      <td>[665, 18, 21, 36, 54, 76, 589, 81, 378, 120, 1...</td>\n",
       "    </tr>\n",
       "  </tbody>\n",
       "</table>\n",
       "</div>"
      ],
      "text/plain": [
       "   user_id                                      item_id_train  \\\n",
       "0        1  [0, 1, 2, 3, 4, 5, 6, 7, 8, 9, 10, 11, 12, 13,...   \n",
       "1        2  [8, 14, 36, 80, 105, 218, 202, 206, 219, 220, ...   \n",
       "2        3  [199, 213, 250, 217, 251, 237, 238, 242, 252, ...   \n",
       "3        4  [6, 36, 209, 213, 230, 251, 239, 235, 255, 258...   \n",
       "4        5  [289, 290, 12, 17, 291, 28, 48, 292, 51, 53, 6...   \n",
       "\n",
       "                                        item_id_test  \n",
       "0  [289, 290, 373, 374, 665, 447, 844, 1023, 375,...  \n",
       "1  [289, 5, 9, 18, 90, 196, 207, 453, 384, 620, 6...  \n",
       "2  [298, 207, 209, 383, 230, 240, 235, 387, 673, ...  \n",
       "3                     [169, 207, 250, 238, 259, 275]  \n",
       "4  [665, 18, 21, 36, 54, 76, 589, 81, 378, 120, 1...  "
      ]
     },
     "execution_count": 95,
     "metadata": {},
     "output_type": "execute_result"
    }
   ],
   "source": [
    "merged.head()"
   ]
  },
  {
   "cell_type": "code",
   "execution_count": 98,
   "metadata": {},
   "outputs": [
    {
     "data": {
      "text/plain": [
       "0.42633342524622253"
      ]
     },
     "execution_count": 98,
     "metadata": {},
     "output_type": "execute_result"
    }
   ],
   "source": [
    "def func(row, recommendation, N=10):\n",
    "    train_list = row[1]\n",
    "    test_list = row[2]\n",
    "    rec_list = recommendation.id.values\n",
    "    return recall_at_n(N, test_list, rec_list, train_list)\n",
    "\n",
    "\n",
    "topn=100\n",
    "merged.apply(lambda row: func(row, mostRatedMovies, topn), axis=1).mean()"
   ]
  },
  {
   "cell_type": "code",
   "execution_count": 102,
   "metadata": {},
   "outputs": [
    {
     "data": {
      "text/plain": [
       "0.3217962459920127"
      ]
     },
     "execution_count": 102,
     "metadata": {},
     "output_type": "execute_result"
    }
   ],
   "source": [
    "merged.apply(lambda row: func(row, highestMeanRatedMovies, topn), axis=1).mean()"
   ]
  },
  {
   "cell_type": "markdown",
   "metadata": {},
   "source": [
    "## 3.2 Mean Averaged Precision (MAP) -- Advanced material\n",
    "\n",
    "Previous metrics did not account for the ranking of the recommendation, i.e. the relative position of a movie within the sorted list of recommendations. **But orders matters!** Metrics like MAP, MRR or NDCG try to tackle down this problem. \n",
    "\n",
    "From the blog *http://fastml.com/what-you-wanted-to-know-about-mean-average-precision/*:\n",
    "\n",
    "> Here’s another way to understand average precision. Wikipedia says AP is used to score document retrieval. You can think of it this way: you type something in Google and it shows you 10 results. It’s probably best if all of them were relevant. If only some are relevant, say five of them, then it’s much better if the relevant ones are shown first. It would be bad if first five were irrelevant and good ones only started from sixth, wouldn’t it? AP score reflects this.\n",
    "\n",
    "Implementation taken from:\n",
    "\n",
    "https://github.com/benhamner/Metrics/blob/master/Python/ml_metrics/average_precision.py\n",
    "\n"
   ]
  },
  {
   "cell_type": "markdown",
   "metadata": {},
   "source": [
    "## Average Precision \n",
    "\n",
    "The Average Precision is definied as:\n",
    "\n",
    "### $$\\mathrm{AP}@N = \\frac{\\sum_{k=1}^N P(k) \\times rel(k)}{\\mathrm{min}(N, \\sum_{i\\in \\mathcal{I}_u} 1)}$$\n",
    "\n",
    "where $P(k)$ is the precision at cut-off in the item list, i.e. the ratio of the number of recommended items adopted, up to the position k, over the number k. Thus:\n",
    "\n",
    "### $$\\mathrm{AP}@N = \\frac{\\sum_{k=1}^N \\left(\\sum_{i=1}^k rel(i)\\right)/k \\times rel(k)}{\\mathrm{min}(N, \\sum_{i\\in \\mathcal{I}_u} 1)}$$\n",
    "\n"
   ]
  },
  {
   "cell_type": "markdown",
   "metadata": {},
   "source": [
    "<div class = \"alert alert-success\">\n",
    "Following the example above, consider a user that watched the following films:\n",
    "<br /><br />\n",
    "'Designated Mourner, The (1997)'\n",
    "<br />\n",
    "'Money Talks (1997)'\n",
    "<br />\n",
    "'Madame Butterfly (1995)'\n",
    "<br />\n",
    "'Batman Forever (1995)'\n",
    "<br /><br />\n",
    "The recommended items were: \n",
    "<br /><br />\n",
    "'Batman (1989)' \n",
    "<br />\n",
    "'Madame Butterfly (1995)'\n",
    "<br /><br />"
   ]
  },
  {
   "cell_type": "markdown",
   "metadata": {},
   "source": [
    "<div class = \"alert alert-success\">\n",
    "**Calculate AP@1**\n",
    "<br /><br />\n",
    "First, *rel(1)=0*, because Batman was not viewed. Also, *P(1) = 0*. Thus, AP@1=0.\n",
    "<br />\n",
    "**Calculate AP@2**\n",
    "<br /><br />\n",
    "As before, *rel(1)=0*, so the first term does not contribute. For the second term, *rel(2)=1*, so that *P(2)=0.5*. The numerator is hence:\n",
    "<br /><br />\n",
    "$P(1)*rel(1)+P(2)*rel(2)=0*0+0.5*1$\n",
    "<br /><br />\n",
    "For the denominator, $N=2$ and $\\sum_{i\\in \\mathcal{I}_u} 1)=4$, thus:\n",
    "<br /><br />\n",
    "AP@2 = 0.5/2 = 0.25\n",
    "</div>"
   ]
  },
  {
   "cell_type": "markdown",
   "metadata": {},
   "source": [
    "Let's now implement it =)"
   ]
  },
  {
   "cell_type": "code",
   "execution_count": null,
   "metadata": {},
   "outputs": [],
   "source": [
    "def apk(N, test, recommended, train=None):\n",
    "    \"\"\"\n",
    "    Computes the average precision at N given recommendations.\n",
    "    \n",
    "    :param N: number of recommendations\n",
    "    :param test: list of movies seen by user in test\n",
    "    :param train: list of movies seen by user in train. This has to be removed from the recommended list \n",
    "    :param recommended: list of movies recommended\n",
    "    \n",
    "    :return The average precision at N over the test set\n",
    "    \"\"\"\n",
    "    if train is not None: \n",
    "        rec_true = []\n",
    "        for r in recommended:\n",
    "            if r not in train:\n",
    "                rec_true.append(r)\n",
    "    else:\n",
    "        rec_true = recommended    \n",
    "    predicted = rec_true[:N] # top-k predictions\n",
    "    \n",
    "    score = 0.0 # This will store the numerator\n",
    "    num_hits = 0.0 # This will store the sum of rel(i)\n",
    "\n",
    "    for i,p in enumerate(predicted):\n",
    "        if p in test and p not in predicted[:i]:\n",
    "            num_hits += 1.0\n",
    "            score += num_hits/(i+1.0)\n",
    "\n",
    "    return score / min(len(test), N)"
   ]
  },
  {
   "cell_type": "code",
   "execution_count": null,
   "metadata": {},
   "outputs": [],
   "source": [
    "seen = ['Designated Mourner, The (1997)', 'Money Talks (1997)', 'Madame Butterfly (1995)', 'Batman Forever (1995)']\n",
    "recommended = ['Madame Butterfly (1995)', 'Batman (1989)']"
   ]
  },
  {
   "cell_type": "code",
   "execution_count": null,
   "metadata": {},
   "outputs": [],
   "source": [
    "apk(1, seen, recommended)"
   ]
  },
  {
   "cell_type": "code",
   "execution_count": null,
   "metadata": {},
   "outputs": [],
   "source": [
    "apk(2, seen, recommended)"
   ]
  },
  {
   "cell_type": "code",
   "execution_count": null,
   "metadata": {},
   "outputs": [],
   "source": [
    "apk(3, seen, recommended)"
   ]
  },
  {
   "cell_type": "markdown",
   "metadata": {},
   "source": [
    "## MAP\n",
    "\n",
    "Mean avergae precision is nothing else than the AP averaged across users ;)\n",
    "\n",
    "Apply it to popularity baselines"
   ]
  },
  {
   "cell_type": "code",
   "execution_count": null,
   "metadata": {},
   "outputs": [],
   "source": [
    "?"
   ]
  },
  {
   "cell_type": "markdown",
   "metadata": {},
   "source": [
    "<div class=\"alert alert-success\">\n",
    "The rest of the class is covered in a different notebook\n",
    "</div>"
   ]
  }
 ],
 "metadata": {
  "anaconda-cloud": {},
  "celltoolbar": "Raw Cell Format",
  "kernelspec": {
   "display_name": "Python [conda env:ks_dl_course]",
   "language": "python",
   "name": "conda-env-ks_dl_course-py"
  },
  "language_info": {
   "codemirror_mode": {
    "name": "ipython",
    "version": 3
   },
   "file_extension": ".py",
   "mimetype": "text/x-python",
   "name": "python",
   "nbconvert_exporter": "python",
   "pygments_lexer": "ipython3",
   "version": "3.6.6"
  }
 },
 "nbformat": 4,
 "nbformat_minor": 1
}
